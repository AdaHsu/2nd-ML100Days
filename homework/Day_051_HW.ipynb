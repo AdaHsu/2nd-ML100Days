{
 "cells": [
  {
   "cell_type": "code",
   "execution_count": 1,
   "metadata": {},
   "outputs": [
    {
     "name": "stderr",
     "output_type": "stream",
     "text": [
      "/usr/local/anaconda3/envs/ml100marathon/lib/python3.6/site-packages/lightgbm/__init__.py:46: UserWarning: Starting from version 2.2.1, the library file in distribution wheels for macOS is built by the Apple Clang (Xcode_9.4.1) compiler.\n",
      "This means that in case of installing LightGBM from PyPI via the ``pip install lightgbm`` command, you don't need to install the gcc compiler anymore.\n",
      "Instead of that, you need to install the OpenMP library, which is required for running LightGBM on the system with the Apple Clang compiler.\n",
      "You can install the OpenMP library by the following command: ``brew install libomp``.\n",
      "  \"You can install the OpenMP library by the following command: ``brew install libomp``.\", UserWarning)\n"
     ]
    }
   ],
   "source": [
    "from datetime import date, datetime\n",
    "\n",
    "from sklearn.svm import SVC\n",
    "from sklearn.linear_model import LogisticRegression\n",
    "from sklearn.tree import DecisionTreeClassifier\n",
    "from sklearn.ensemble import AdaBoostClassifier\n",
    "from sklearn.ensemble import RandomForestClassifier\n",
    "from sklearn.ensemble import GradientBoostingClassifier\n",
    "from sklearn.neural_network import MLPClassifier\n",
    "from sklearn.model_selection import train_test_split\n",
    "from sklearn.model_selection import cross_val_score\n",
    "from sklearn.metrics import accuracy_score\n",
    "from sklearn.metrics import f1_score\n",
    "from sklearn.metrics import roc_auc_score\n",
    "from sklearn.metrics import precision_score\n",
    "from sklearn.metrics import recall_score\n",
    "from sklearn.metrics import roc_curve, auc\n",
    "from sklearn.metrics import confusion_matrix\n",
    "from sklearn.preprocessing import StandardScaler\n",
    "from sklearn.neighbors import KNeighborsClassifier\n",
    "from sklearn.naive_bayes import GaussianNB\n",
    "\n",
    "from lightgbm import LGBMClassifier\n",
    "from xgboost import XGBClassifier\n",
    "from mlxtend.classifier import StackingClassifier\n",
    "\n",
    "\n",
    "import copy\n",
    "import math\n",
    "import matplotlib.pyplot as plt\n",
    "import numpy as np\n",
    "import os\n",
    "import pandas as pd\n",
    "import seaborn as sns\n"
   ]
  },
  {
   "cell_type": "code",
   "execution_count": 2,
   "metadata": {},
   "outputs": [
    {
     "name": "stdout",
     "output_type": "stream",
     "text": [
      "(746969, 7)\n",
      "(306313, 6)\n"
     ]
    }
   ],
   "source": [
    "DATA_ROOT = \"../input/\"\n",
    "\n",
    "df_train = pd.read_csv(os.path.join(DATA_ROOT,'train_offline.csv'))\n",
    "df_train = df_train[~df_train.Coupon_id.isna()]\n",
    "df_train.reset_index(drop=True, inplace=True)\n",
    "\n",
    "df_test = pd.read_csv(os.path.join(DATA_ROOT,'test_offline.csv'))\n",
    "df_test = df_test[~df_test.Coupon_id.isna()]\n",
    "df_test.reset_index(drop=True, inplace=True)\n",
    "print(df_train.shape)\n",
    "print(df_test.shape)"
   ]
  },
  {
   "cell_type": "code",
   "execution_count": 3,
   "metadata": {},
   "outputs": [
    {
     "data": {
      "text/html": [
       "<div>\n",
       "<style scoped>\n",
       "    .dataframe tbody tr th:only-of-type {\n",
       "        vertical-align: middle;\n",
       "    }\n",
       "\n",
       "    .dataframe tbody tr th {\n",
       "        vertical-align: top;\n",
       "    }\n",
       "\n",
       "    .dataframe thead th {\n",
       "        text-align: right;\n",
       "    }\n",
       "</style>\n",
       "<table border=\"1\" class=\"dataframe\">\n",
       "  <thead>\n",
       "    <tr style=\"text-align: right;\">\n",
       "      <th></th>\n",
       "      <th>User_id</th>\n",
       "      <th>Merchant_id</th>\n",
       "      <th>Coupon_id</th>\n",
       "      <th>Discount_rate</th>\n",
       "      <th>Distance</th>\n",
       "      <th>Date_received</th>\n",
       "      <th>Date</th>\n",
       "    </tr>\n",
       "  </thead>\n",
       "  <tbody>\n",
       "    <tr>\n",
       "      <th>0</th>\n",
       "      <td>1439408</td>\n",
       "      <td>2632</td>\n",
       "      <td>8591.0</td>\n",
       "      <td>20:1</td>\n",
       "      <td>0.0</td>\n",
       "      <td>20160217.0</td>\n",
       "      <td>NaN</td>\n",
       "    </tr>\n",
       "    <tr>\n",
       "      <th>1</th>\n",
       "      <td>1439408</td>\n",
       "      <td>2632</td>\n",
       "      <td>1078.0</td>\n",
       "      <td>20:1</td>\n",
       "      <td>0.0</td>\n",
       "      <td>20160319.0</td>\n",
       "      <td>NaN</td>\n",
       "    </tr>\n",
       "    <tr>\n",
       "      <th>2</th>\n",
       "      <td>1832624</td>\n",
       "      <td>3381</td>\n",
       "      <td>7610.0</td>\n",
       "      <td>200:20</td>\n",
       "      <td>0.0</td>\n",
       "      <td>20160429.0</td>\n",
       "      <td>NaN</td>\n",
       "    </tr>\n",
       "    <tr>\n",
       "      <th>3</th>\n",
       "      <td>2029232</td>\n",
       "      <td>3381</td>\n",
       "      <td>11951.0</td>\n",
       "      <td>200:20</td>\n",
       "      <td>1.0</td>\n",
       "      <td>20160129.0</td>\n",
       "      <td>NaN</td>\n",
       "    </tr>\n",
       "    <tr>\n",
       "      <th>4</th>\n",
       "      <td>2223968</td>\n",
       "      <td>3381</td>\n",
       "      <td>9776.0</td>\n",
       "      <td>10:5</td>\n",
       "      <td>2.0</td>\n",
       "      <td>20160129.0</td>\n",
       "      <td>NaN</td>\n",
       "    </tr>\n",
       "  </tbody>\n",
       "</table>\n",
       "</div>"
      ],
      "text/plain": [
       "   User_id  Merchant_id  Coupon_id Discount_rate  Distance  Date_received  \\\n",
       "0  1439408         2632     8591.0          20:1       0.0     20160217.0   \n",
       "1  1439408         2632     1078.0          20:1       0.0     20160319.0   \n",
       "2  1832624         3381     7610.0        200:20       0.0     20160429.0   \n",
       "3  2029232         3381    11951.0        200:20       1.0     20160129.0   \n",
       "4  2223968         3381     9776.0          10:5       2.0     20160129.0   \n",
       "\n",
       "   Date  \n",
       "0   NaN  \n",
       "1   NaN  \n",
       "2   NaN  \n",
       "3   NaN  \n",
       "4   NaN  "
      ]
     },
     "execution_count": 3,
     "metadata": {},
     "output_type": "execute_result"
    }
   ],
   "source": [
    "df_train.head()"
   ]
  },
  {
   "cell_type": "code",
   "execution_count": 4,
   "metadata": {},
   "outputs": [
    {
     "name": "stdout",
     "output_type": "stream",
     "text": [
      "0    710665\n",
      "1     36304\n",
      "Name: label, dtype: int64\n"
     ]
    },
    {
     "data": {
      "text/html": [
       "<div>\n",
       "<style scoped>\n",
       "    .dataframe tbody tr th:only-of-type {\n",
       "        vertical-align: middle;\n",
       "    }\n",
       "\n",
       "    .dataframe tbody tr th {\n",
       "        vertical-align: top;\n",
       "    }\n",
       "\n",
       "    .dataframe thead th {\n",
       "        text-align: right;\n",
       "    }\n",
       "</style>\n",
       "<table border=\"1\" class=\"dataframe\">\n",
       "  <thead>\n",
       "    <tr style=\"text-align: right;\">\n",
       "      <th></th>\n",
       "      <th>User_id</th>\n",
       "      <th>Merchant_id</th>\n",
       "      <th>Coupon_id</th>\n",
       "      <th>Discount_rate</th>\n",
       "      <th>Distance</th>\n",
       "      <th>Date_received</th>\n",
       "      <th>Date</th>\n",
       "      <th>label</th>\n",
       "    </tr>\n",
       "  </thead>\n",
       "  <tbody>\n",
       "    <tr>\n",
       "      <th>0</th>\n",
       "      <td>1439408</td>\n",
       "      <td>2632</td>\n",
       "      <td>8591.0</td>\n",
       "      <td>20:1</td>\n",
       "      <td>0.0</td>\n",
       "      <td>20160217.0</td>\n",
       "      <td>NaN</td>\n",
       "      <td>0</td>\n",
       "    </tr>\n",
       "    <tr>\n",
       "      <th>1</th>\n",
       "      <td>1439408</td>\n",
       "      <td>2632</td>\n",
       "      <td>1078.0</td>\n",
       "      <td>20:1</td>\n",
       "      <td>0.0</td>\n",
       "      <td>20160319.0</td>\n",
       "      <td>NaN</td>\n",
       "      <td>0</td>\n",
       "    </tr>\n",
       "    <tr>\n",
       "      <th>2</th>\n",
       "      <td>1832624</td>\n",
       "      <td>3381</td>\n",
       "      <td>7610.0</td>\n",
       "      <td>200:20</td>\n",
       "      <td>0.0</td>\n",
       "      <td>20160429.0</td>\n",
       "      <td>NaN</td>\n",
       "      <td>0</td>\n",
       "    </tr>\n",
       "    <tr>\n",
       "      <th>3</th>\n",
       "      <td>2029232</td>\n",
       "      <td>3381</td>\n",
       "      <td>11951.0</td>\n",
       "      <td>200:20</td>\n",
       "      <td>1.0</td>\n",
       "      <td>20160129.0</td>\n",
       "      <td>NaN</td>\n",
       "      <td>0</td>\n",
       "    </tr>\n",
       "    <tr>\n",
       "      <th>4</th>\n",
       "      <td>2223968</td>\n",
       "      <td>3381</td>\n",
       "      <td>9776.0</td>\n",
       "      <td>10:5</td>\n",
       "      <td>2.0</td>\n",
       "      <td>20160129.0</td>\n",
       "      <td>NaN</td>\n",
       "      <td>0</td>\n",
       "    </tr>\n",
       "  </tbody>\n",
       "</table>\n",
       "</div>"
      ],
      "text/plain": [
       "   User_id  Merchant_id  Coupon_id Discount_rate  Distance  Date_received  \\\n",
       "0  1439408         2632     8591.0          20:1       0.0     20160217.0   \n",
       "1  1439408         2632     1078.0          20:1       0.0     20160319.0   \n",
       "2  1832624         3381     7610.0        200:20       0.0     20160429.0   \n",
       "3  2029232         3381    11951.0        200:20       1.0     20160129.0   \n",
       "4  2223968         3381     9776.0          10:5       2.0     20160129.0   \n",
       "\n",
       "   Date  label  \n",
       "0   NaN      0  \n",
       "1   NaN      0  \n",
       "2   NaN      0  \n",
       "3   NaN      0  \n",
       "4   NaN      0  "
      ]
     },
     "execution_count": 4,
     "metadata": {},
     "output_type": "execute_result"
    }
   ],
   "source": [
    "# 幫訓練資料加標籤 - 規則：拿到 Coupon 後 15 天內有使用的為 1，未使用的為 0，沒拿到 Coupon 則為 -1\n",
    "def label(row):\n",
    "    if np.isnan(row['Date_received']):\n",
    "        return -1\n",
    "    if not np.isnan(row['Date']):\n",
    "        td = pd.to_datetime(row['Date'], format='%Y%m%d') -  pd.to_datetime(row['Date_received'], format='%Y%m%d')\n",
    "        if td <= pd.Timedelta(15, 'D'):\n",
    "            return 1\n",
    "    return 0\n",
    "\n",
    "df_train[\"label\"] = df_train.apply(label, axis=1)\n",
    "print(df_train[\"label\"].value_counts())\n",
    "df_train.head()"
   ]
  },
  {
   "cell_type": "code",
   "execution_count": 5,
   "metadata": {},
   "outputs": [
    {
     "data": {
      "text/html": [
       "<div>\n",
       "<style scoped>\n",
       "    .dataframe tbody tr th:only-of-type {\n",
       "        vertical-align: middle;\n",
       "    }\n",
       "\n",
       "    .dataframe tbody tr th {\n",
       "        vertical-align: top;\n",
       "    }\n",
       "\n",
       "    .dataframe thead th {\n",
       "        text-align: right;\n",
       "    }\n",
       "</style>\n",
       "<table border=\"1\" class=\"dataframe\">\n",
       "  <thead>\n",
       "    <tr style=\"text-align: right;\">\n",
       "      <th></th>\n",
       "      <th>User_id</th>\n",
       "      <th>Merchant_id</th>\n",
       "      <th>Coupon_id</th>\n",
       "      <th>Discount_rate</th>\n",
       "      <th>Distance</th>\n",
       "      <th>Date_received</th>\n",
       "      <th>Date</th>\n",
       "      <th>label</th>\n",
       "      <th>weekday</th>\n",
       "      <th>weekday_type</th>\n",
       "    </tr>\n",
       "  </thead>\n",
       "  <tbody>\n",
       "    <tr>\n",
       "      <th>0</th>\n",
       "      <td>1439408</td>\n",
       "      <td>2632</td>\n",
       "      <td>8591.0</td>\n",
       "      <td>20:1</td>\n",
       "      <td>0.0</td>\n",
       "      <td>20160217.0</td>\n",
       "      <td>NaN</td>\n",
       "      <td>0</td>\n",
       "      <td>3</td>\n",
       "      <td>0</td>\n",
       "    </tr>\n",
       "    <tr>\n",
       "      <th>1</th>\n",
       "      <td>1439408</td>\n",
       "      <td>2632</td>\n",
       "      <td>1078.0</td>\n",
       "      <td>20:1</td>\n",
       "      <td>0.0</td>\n",
       "      <td>20160319.0</td>\n",
       "      <td>NaN</td>\n",
       "      <td>0</td>\n",
       "      <td>6</td>\n",
       "      <td>1</td>\n",
       "    </tr>\n",
       "    <tr>\n",
       "      <th>2</th>\n",
       "      <td>1832624</td>\n",
       "      <td>3381</td>\n",
       "      <td>7610.0</td>\n",
       "      <td>200:20</td>\n",
       "      <td>0.0</td>\n",
       "      <td>20160429.0</td>\n",
       "      <td>NaN</td>\n",
       "      <td>0</td>\n",
       "      <td>5</td>\n",
       "      <td>0</td>\n",
       "    </tr>\n",
       "    <tr>\n",
       "      <th>3</th>\n",
       "      <td>2029232</td>\n",
       "      <td>3381</td>\n",
       "      <td>11951.0</td>\n",
       "      <td>200:20</td>\n",
       "      <td>1.0</td>\n",
       "      <td>20160129.0</td>\n",
       "      <td>NaN</td>\n",
       "      <td>0</td>\n",
       "      <td>5</td>\n",
       "      <td>0</td>\n",
       "    </tr>\n",
       "    <tr>\n",
       "      <th>4</th>\n",
       "      <td>2223968</td>\n",
       "      <td>3381</td>\n",
       "      <td>9776.0</td>\n",
       "      <td>10:5</td>\n",
       "      <td>2.0</td>\n",
       "      <td>20160129.0</td>\n",
       "      <td>NaN</td>\n",
       "      <td>0</td>\n",
       "      <td>5</td>\n",
       "      <td>0</td>\n",
       "    </tr>\n",
       "  </tbody>\n",
       "</table>\n",
       "</div>"
      ],
      "text/plain": [
       "   User_id  Merchant_id  Coupon_id Discount_rate  Distance  Date_received  \\\n",
       "0  1439408         2632     8591.0          20:1       0.0     20160217.0   \n",
       "1  1439408         2632     1078.0          20:1       0.0     20160319.0   \n",
       "2  1832624         3381     7610.0        200:20       0.0     20160429.0   \n",
       "3  2029232         3381    11951.0        200:20       1.0     20160129.0   \n",
       "4  2223968         3381     9776.0          10:5       2.0     20160129.0   \n",
       "\n",
       "   Date  label  weekday  weekday_type  \n",
       "0   NaN      0        3             0  \n",
       "1   NaN      0        6             1  \n",
       "2   NaN      0        5             0  \n",
       "3   NaN      0        5             0  \n",
       "4   NaN      0        5             0  "
      ]
     },
     "execution_count": 5,
     "metadata": {},
     "output_type": "execute_result"
    }
   ],
   "source": [
    "# 拿到 coupon 的星期及 平日/假日\n",
    "def getWeekday(row):\n",
    "    if (np.isnan(row)) or (row==-1):\n",
    "        return row\n",
    "    else:\n",
    "        return pd.to_datetime(int(row), format = \"%Y%m%d\").dayofweek+1 # add one to make it from 0~6 -> 1~7\n",
    "\n",
    "df_train['weekday'] = df_train['Date_received'].apply(getWeekday)\n",
    "df_test['weekday'] = df_test['Date_received'].apply(getWeekday)\n",
    "\n",
    "# 平日、假日\n",
    "def getWeekendType(row):\n",
    "    if (np.isnan(row)) or (row == -1):\n",
    "        return row\n",
    "    else:\n",
    "        return 1 if int(row) in [6, 7] else 0\n",
    "\n",
    "# weekday_type (weekend = 1)\n",
    "df_train['weekday_type'] = df_train['weekday'].apply(lambda x: x if np.isnan(x) else 1 if int(x) in [6,7] else 0)\n",
    "df_test['weekday_type'] = df_test['weekday'].apply(lambda x: x if np.isnan(x) else 1 if int(x) in [6,7] else 0)\n",
    "\n",
    "df_train.head()\n"
   ]
  },
  {
   "cell_type": "code",
   "execution_count": 6,
   "metadata": {},
   "outputs": [
    {
     "name": "stdout",
     "output_type": "stream",
     "text": [
      "['weekday_1', 'weekday_2', 'weekday_3', 'weekday_4', 'weekday_5', 'weekday_6', 'weekday_7']\n"
     ]
    },
    {
     "data": {
      "text/html": [
       "<div>\n",
       "<style scoped>\n",
       "    .dataframe tbody tr th:only-of-type {\n",
       "        vertical-align: middle;\n",
       "    }\n",
       "\n",
       "    .dataframe tbody tr th {\n",
       "        vertical-align: top;\n",
       "    }\n",
       "\n",
       "    .dataframe thead th {\n",
       "        text-align: right;\n",
       "    }\n",
       "</style>\n",
       "<table border=\"1\" class=\"dataframe\">\n",
       "  <thead>\n",
       "    <tr style=\"text-align: right;\">\n",
       "      <th></th>\n",
       "      <th>User_id</th>\n",
       "      <th>Merchant_id</th>\n",
       "      <th>Coupon_id</th>\n",
       "      <th>Discount_rate</th>\n",
       "      <th>Distance</th>\n",
       "      <th>Date_received</th>\n",
       "      <th>Date</th>\n",
       "      <th>label</th>\n",
       "      <th>weekday</th>\n",
       "      <th>weekday_type</th>\n",
       "      <th>weekday_1</th>\n",
       "      <th>weekday_2</th>\n",
       "      <th>weekday_3</th>\n",
       "      <th>weekday_4</th>\n",
       "      <th>weekday_5</th>\n",
       "      <th>weekday_6</th>\n",
       "      <th>weekday_7</th>\n",
       "    </tr>\n",
       "  </thead>\n",
       "  <tbody>\n",
       "    <tr>\n",
       "      <th>0</th>\n",
       "      <td>1439408</td>\n",
       "      <td>2632</td>\n",
       "      <td>8591.0</td>\n",
       "      <td>20:1</td>\n",
       "      <td>0.0</td>\n",
       "      <td>20160217.0</td>\n",
       "      <td>NaN</td>\n",
       "      <td>0</td>\n",
       "      <td>3</td>\n",
       "      <td>0</td>\n",
       "      <td>0</td>\n",
       "      <td>0</td>\n",
       "      <td>1</td>\n",
       "      <td>0</td>\n",
       "      <td>0</td>\n",
       "      <td>0</td>\n",
       "      <td>0</td>\n",
       "    </tr>\n",
       "    <tr>\n",
       "      <th>1</th>\n",
       "      <td>1439408</td>\n",
       "      <td>2632</td>\n",
       "      <td>1078.0</td>\n",
       "      <td>20:1</td>\n",
       "      <td>0.0</td>\n",
       "      <td>20160319.0</td>\n",
       "      <td>NaN</td>\n",
       "      <td>0</td>\n",
       "      <td>6</td>\n",
       "      <td>1</td>\n",
       "      <td>0</td>\n",
       "      <td>0</td>\n",
       "      <td>0</td>\n",
       "      <td>0</td>\n",
       "      <td>0</td>\n",
       "      <td>1</td>\n",
       "      <td>0</td>\n",
       "    </tr>\n",
       "    <tr>\n",
       "      <th>2</th>\n",
       "      <td>1832624</td>\n",
       "      <td>3381</td>\n",
       "      <td>7610.0</td>\n",
       "      <td>200:20</td>\n",
       "      <td>0.0</td>\n",
       "      <td>20160429.0</td>\n",
       "      <td>NaN</td>\n",
       "      <td>0</td>\n",
       "      <td>5</td>\n",
       "      <td>0</td>\n",
       "      <td>0</td>\n",
       "      <td>0</td>\n",
       "      <td>0</td>\n",
       "      <td>0</td>\n",
       "      <td>1</td>\n",
       "      <td>0</td>\n",
       "      <td>0</td>\n",
       "    </tr>\n",
       "    <tr>\n",
       "      <th>3</th>\n",
       "      <td>2029232</td>\n",
       "      <td>3381</td>\n",
       "      <td>11951.0</td>\n",
       "      <td>200:20</td>\n",
       "      <td>1.0</td>\n",
       "      <td>20160129.0</td>\n",
       "      <td>NaN</td>\n",
       "      <td>0</td>\n",
       "      <td>5</td>\n",
       "      <td>0</td>\n",
       "      <td>0</td>\n",
       "      <td>0</td>\n",
       "      <td>0</td>\n",
       "      <td>0</td>\n",
       "      <td>1</td>\n",
       "      <td>0</td>\n",
       "      <td>0</td>\n",
       "    </tr>\n",
       "    <tr>\n",
       "      <th>4</th>\n",
       "      <td>2223968</td>\n",
       "      <td>3381</td>\n",
       "      <td>9776.0</td>\n",
       "      <td>10:5</td>\n",
       "      <td>2.0</td>\n",
       "      <td>20160129.0</td>\n",
       "      <td>NaN</td>\n",
       "      <td>0</td>\n",
       "      <td>5</td>\n",
       "      <td>0</td>\n",
       "      <td>0</td>\n",
       "      <td>0</td>\n",
       "      <td>0</td>\n",
       "      <td>0</td>\n",
       "      <td>1</td>\n",
       "      <td>0</td>\n",
       "      <td>0</td>\n",
       "    </tr>\n",
       "  </tbody>\n",
       "</table>\n",
       "</div>"
      ],
      "text/plain": [
       "   User_id  Merchant_id  Coupon_id Discount_rate  Distance  Date_received  \\\n",
       "0  1439408         2632     8591.0          20:1       0.0     20160217.0   \n",
       "1  1439408         2632     1078.0          20:1       0.0     20160319.0   \n",
       "2  1832624         3381     7610.0        200:20       0.0     20160429.0   \n",
       "3  2029232         3381    11951.0        200:20       1.0     20160129.0   \n",
       "4  2223968         3381     9776.0          10:5       2.0     20160129.0   \n",
       "\n",
       "   Date  label  weekday  weekday_type  weekday_1  weekday_2  weekday_3  \\\n",
       "0   NaN      0        3             0          0          0          1   \n",
       "1   NaN      0        6             1          0          0          0   \n",
       "2   NaN      0        5             0          0          0          0   \n",
       "3   NaN      0        5             0          0          0          0   \n",
       "4   NaN      0        5             0          0          0          0   \n",
       "\n",
       "   weekday_4  weekday_5  weekday_6  weekday_7  \n",
       "0          0          0          0          0  \n",
       "1          0          0          1          0  \n",
       "2          0          1          0          0  \n",
       "3          0          1          0          0  \n",
       "4          0          1          0          0  "
      ]
     },
     "execution_count": 6,
     "metadata": {},
     "output_type": "execute_result"
    }
   ],
   "source": [
    "# 拿到 coupon 的星期的 onehot encoding\n",
    "weekdaycols = ['weekday_' + str(i) for i in range(1,8)]\n",
    "print(weekdaycols)\n",
    "\n",
    "tmpdf = pd.get_dummies(df_train['weekday'].replace(-1, np.nan))\n",
    "tmpdf.columns = weekdaycols\n",
    "df_train[weekdaycols] = tmpdf\n",
    "\n",
    "tmpdf = pd.get_dummies(df_test['weekday'].replace(-1, np.nan))\n",
    "tmpdf.columns = weekdaycols\n",
    "df_test[weekdaycols] = tmpdf\n",
    "\n",
    "df_train.head()"
   ]
  },
  {
   "cell_type": "code",
   "execution_count": 7,
   "metadata": {},
   "outputs": [
    {
     "data": {
      "text/html": [
       "<div>\n",
       "<style scoped>\n",
       "    .dataframe tbody tr th:only-of-type {\n",
       "        vertical-align: middle;\n",
       "    }\n",
       "\n",
       "    .dataframe tbody tr th {\n",
       "        vertical-align: top;\n",
       "    }\n",
       "\n",
       "    .dataframe thead th {\n",
       "        text-align: right;\n",
       "    }\n",
       "</style>\n",
       "<table border=\"1\" class=\"dataframe\">\n",
       "  <thead>\n",
       "    <tr style=\"text-align: right;\">\n",
       "      <th></th>\n",
       "      <th>User_id</th>\n",
       "      <th>Merchant_id</th>\n",
       "      <th>Coupon_id</th>\n",
       "      <th>Discount_rate</th>\n",
       "      <th>Distance</th>\n",
       "      <th>Date_received</th>\n",
       "      <th>Date</th>\n",
       "      <th>label</th>\n",
       "      <th>weekday</th>\n",
       "      <th>weekday_type</th>\n",
       "      <th>weekday_1</th>\n",
       "      <th>weekday_2</th>\n",
       "      <th>weekday_3</th>\n",
       "      <th>weekday_4</th>\n",
       "      <th>weekday_5</th>\n",
       "      <th>weekday_6</th>\n",
       "      <th>weekday_7</th>\n",
       "      <th>month_term</th>\n",
       "    </tr>\n",
       "  </thead>\n",
       "  <tbody>\n",
       "    <tr>\n",
       "      <th>0</th>\n",
       "      <td>1439408</td>\n",
       "      <td>2632</td>\n",
       "      <td>8591.0</td>\n",
       "      <td>20:1</td>\n",
       "      <td>0.0</td>\n",
       "      <td>20160217.0</td>\n",
       "      <td>NaN</td>\n",
       "      <td>0</td>\n",
       "      <td>3</td>\n",
       "      <td>0</td>\n",
       "      <td>0</td>\n",
       "      <td>0</td>\n",
       "      <td>1</td>\n",
       "      <td>0</td>\n",
       "      <td>0</td>\n",
       "      <td>0</td>\n",
       "      <td>0</td>\n",
       "      <td>2</td>\n",
       "    </tr>\n",
       "    <tr>\n",
       "      <th>1</th>\n",
       "      <td>1439408</td>\n",
       "      <td>2632</td>\n",
       "      <td>1078.0</td>\n",
       "      <td>20:1</td>\n",
       "      <td>0.0</td>\n",
       "      <td>20160319.0</td>\n",
       "      <td>NaN</td>\n",
       "      <td>0</td>\n",
       "      <td>6</td>\n",
       "      <td>1</td>\n",
       "      <td>0</td>\n",
       "      <td>0</td>\n",
       "      <td>0</td>\n",
       "      <td>0</td>\n",
       "      <td>0</td>\n",
       "      <td>1</td>\n",
       "      <td>0</td>\n",
       "      <td>2</td>\n",
       "    </tr>\n",
       "    <tr>\n",
       "      <th>2</th>\n",
       "      <td>1832624</td>\n",
       "      <td>3381</td>\n",
       "      <td>7610.0</td>\n",
       "      <td>200:20</td>\n",
       "      <td>0.0</td>\n",
       "      <td>20160429.0</td>\n",
       "      <td>NaN</td>\n",
       "      <td>0</td>\n",
       "      <td>5</td>\n",
       "      <td>0</td>\n",
       "      <td>0</td>\n",
       "      <td>0</td>\n",
       "      <td>0</td>\n",
       "      <td>0</td>\n",
       "      <td>1</td>\n",
       "      <td>0</td>\n",
       "      <td>0</td>\n",
       "      <td>3</td>\n",
       "    </tr>\n",
       "    <tr>\n",
       "      <th>3</th>\n",
       "      <td>2029232</td>\n",
       "      <td>3381</td>\n",
       "      <td>11951.0</td>\n",
       "      <td>200:20</td>\n",
       "      <td>1.0</td>\n",
       "      <td>20160129.0</td>\n",
       "      <td>NaN</td>\n",
       "      <td>0</td>\n",
       "      <td>5</td>\n",
       "      <td>0</td>\n",
       "      <td>0</td>\n",
       "      <td>0</td>\n",
       "      <td>0</td>\n",
       "      <td>0</td>\n",
       "      <td>1</td>\n",
       "      <td>0</td>\n",
       "      <td>0</td>\n",
       "      <td>3</td>\n",
       "    </tr>\n",
       "    <tr>\n",
       "      <th>4</th>\n",
       "      <td>2223968</td>\n",
       "      <td>3381</td>\n",
       "      <td>9776.0</td>\n",
       "      <td>10:5</td>\n",
       "      <td>2.0</td>\n",
       "      <td>20160129.0</td>\n",
       "      <td>NaN</td>\n",
       "      <td>0</td>\n",
       "      <td>5</td>\n",
       "      <td>0</td>\n",
       "      <td>0</td>\n",
       "      <td>0</td>\n",
       "      <td>0</td>\n",
       "      <td>0</td>\n",
       "      <td>1</td>\n",
       "      <td>0</td>\n",
       "      <td>0</td>\n",
       "      <td>3</td>\n",
       "    </tr>\n",
       "  </tbody>\n",
       "</table>\n",
       "</div>"
      ],
      "text/plain": [
       "   User_id  Merchant_id  Coupon_id Discount_rate  Distance  Date_received  \\\n",
       "0  1439408         2632     8591.0          20:1       0.0     20160217.0   \n",
       "1  1439408         2632     1078.0          20:1       0.0     20160319.0   \n",
       "2  1832624         3381     7610.0        200:20       0.0     20160429.0   \n",
       "3  2029232         3381    11951.0        200:20       1.0     20160129.0   \n",
       "4  2223968         3381     9776.0          10:5       2.0     20160129.0   \n",
       "\n",
       "   Date  label  weekday  weekday_type  weekday_1  weekday_2  weekday_3  \\\n",
       "0   NaN      0        3             0          0          0          1   \n",
       "1   NaN      0        6             1          0          0          0   \n",
       "2   NaN      0        5             0          0          0          0   \n",
       "3   NaN      0        5             0          0          0          0   \n",
       "4   NaN      0        5             0          0          0          0   \n",
       "\n",
       "   weekday_4  weekday_5  weekday_6  weekday_7  month_term  \n",
       "0          0          0          0          0           2  \n",
       "1          0          0          1          0           2  \n",
       "2          0          1          0          0           3  \n",
       "3          0          1          0          0           3  \n",
       "4          0          1          0          0           3  "
      ]
     },
     "execution_count": 7,
     "metadata": {},
     "output_type": "execute_result"
    }
   ],
   "source": [
    "# 拿到 coupon 的時間散佈在每月的何種階段 1: 上旬, 2: 中旬, 3: 下旬\n",
    "def get_month_term(row):\n",
    "    if (np.isnan(row)) or (row==-1):\n",
    "        return row\n",
    "    else:\n",
    "        d = pd.to_datetime(row, format = '%Y%m%d').day\n",
    "        if d < 10:\n",
    "            return 1\n",
    "        elif d < 20:\n",
    "            return 2\n",
    "        else:\n",
    "            return 3\n",
    "        \n",
    "df_train['month_term'] = df_train['Date_received'].apply(get_month_term)\n",
    "df_test['month_term'] = df_test['Date_received'].apply(get_month_term)\n",
    "\n",
    "df_train.head()"
   ]
  },
  {
   "cell_type": "code",
   "execution_count": 8,
   "metadata": {},
   "outputs": [
    {
     "data": {
      "text/html": [
       "<div>\n",
       "<style scoped>\n",
       "    .dataframe tbody tr th:only-of-type {\n",
       "        vertical-align: middle;\n",
       "    }\n",
       "\n",
       "    .dataframe tbody tr th {\n",
       "        vertical-align: top;\n",
       "    }\n",
       "\n",
       "    .dataframe thead th {\n",
       "        text-align: right;\n",
       "    }\n",
       "</style>\n",
       "<table border=\"1\" class=\"dataframe\">\n",
       "  <thead>\n",
       "    <tr style=\"text-align: right;\">\n",
       "      <th></th>\n",
       "      <th>User_id</th>\n",
       "      <th>Merchant_id</th>\n",
       "      <th>Coupon_id</th>\n",
       "      <th>Discount_rate</th>\n",
       "      <th>Distance</th>\n",
       "      <th>Date_received</th>\n",
       "      <th>Date</th>\n",
       "      <th>label</th>\n",
       "      <th>weekday</th>\n",
       "      <th>weekday_type</th>\n",
       "      <th>...</th>\n",
       "      <th>weekday_2</th>\n",
       "      <th>weekday_3</th>\n",
       "      <th>weekday_4</th>\n",
       "      <th>weekday_5</th>\n",
       "      <th>weekday_6</th>\n",
       "      <th>weekday_7</th>\n",
       "      <th>month_term</th>\n",
       "      <th>early_term</th>\n",
       "      <th>mid_term</th>\n",
       "      <th>late_term</th>\n",
       "    </tr>\n",
       "  </thead>\n",
       "  <tbody>\n",
       "    <tr>\n",
       "      <th>0</th>\n",
       "      <td>1439408</td>\n",
       "      <td>2632</td>\n",
       "      <td>8591.0</td>\n",
       "      <td>20:1</td>\n",
       "      <td>0.0</td>\n",
       "      <td>20160217.0</td>\n",
       "      <td>NaN</td>\n",
       "      <td>0</td>\n",
       "      <td>3</td>\n",
       "      <td>0</td>\n",
       "      <td>...</td>\n",
       "      <td>0</td>\n",
       "      <td>1</td>\n",
       "      <td>0</td>\n",
       "      <td>0</td>\n",
       "      <td>0</td>\n",
       "      <td>0</td>\n",
       "      <td>2</td>\n",
       "      <td>0</td>\n",
       "      <td>1</td>\n",
       "      <td>0</td>\n",
       "    </tr>\n",
       "    <tr>\n",
       "      <th>1</th>\n",
       "      <td>1439408</td>\n",
       "      <td>2632</td>\n",
       "      <td>1078.0</td>\n",
       "      <td>20:1</td>\n",
       "      <td>0.0</td>\n",
       "      <td>20160319.0</td>\n",
       "      <td>NaN</td>\n",
       "      <td>0</td>\n",
       "      <td>6</td>\n",
       "      <td>1</td>\n",
       "      <td>...</td>\n",
       "      <td>0</td>\n",
       "      <td>0</td>\n",
       "      <td>0</td>\n",
       "      <td>0</td>\n",
       "      <td>1</td>\n",
       "      <td>0</td>\n",
       "      <td>2</td>\n",
       "      <td>0</td>\n",
       "      <td>1</td>\n",
       "      <td>0</td>\n",
       "    </tr>\n",
       "    <tr>\n",
       "      <th>2</th>\n",
       "      <td>1832624</td>\n",
       "      <td>3381</td>\n",
       "      <td>7610.0</td>\n",
       "      <td>200:20</td>\n",
       "      <td>0.0</td>\n",
       "      <td>20160429.0</td>\n",
       "      <td>NaN</td>\n",
       "      <td>0</td>\n",
       "      <td>5</td>\n",
       "      <td>0</td>\n",
       "      <td>...</td>\n",
       "      <td>0</td>\n",
       "      <td>0</td>\n",
       "      <td>0</td>\n",
       "      <td>1</td>\n",
       "      <td>0</td>\n",
       "      <td>0</td>\n",
       "      <td>3</td>\n",
       "      <td>0</td>\n",
       "      <td>0</td>\n",
       "      <td>1</td>\n",
       "    </tr>\n",
       "    <tr>\n",
       "      <th>3</th>\n",
       "      <td>2029232</td>\n",
       "      <td>3381</td>\n",
       "      <td>11951.0</td>\n",
       "      <td>200:20</td>\n",
       "      <td>1.0</td>\n",
       "      <td>20160129.0</td>\n",
       "      <td>NaN</td>\n",
       "      <td>0</td>\n",
       "      <td>5</td>\n",
       "      <td>0</td>\n",
       "      <td>...</td>\n",
       "      <td>0</td>\n",
       "      <td>0</td>\n",
       "      <td>0</td>\n",
       "      <td>1</td>\n",
       "      <td>0</td>\n",
       "      <td>0</td>\n",
       "      <td>3</td>\n",
       "      <td>0</td>\n",
       "      <td>0</td>\n",
       "      <td>1</td>\n",
       "    </tr>\n",
       "    <tr>\n",
       "      <th>4</th>\n",
       "      <td>2223968</td>\n",
       "      <td>3381</td>\n",
       "      <td>9776.0</td>\n",
       "      <td>10:5</td>\n",
       "      <td>2.0</td>\n",
       "      <td>20160129.0</td>\n",
       "      <td>NaN</td>\n",
       "      <td>0</td>\n",
       "      <td>5</td>\n",
       "      <td>0</td>\n",
       "      <td>...</td>\n",
       "      <td>0</td>\n",
       "      <td>0</td>\n",
       "      <td>0</td>\n",
       "      <td>1</td>\n",
       "      <td>0</td>\n",
       "      <td>0</td>\n",
       "      <td>3</td>\n",
       "      <td>0</td>\n",
       "      <td>0</td>\n",
       "      <td>1</td>\n",
       "    </tr>\n",
       "  </tbody>\n",
       "</table>\n",
       "<p>5 rows × 21 columns</p>\n",
       "</div>"
      ],
      "text/plain": [
       "   User_id  Merchant_id  Coupon_id Discount_rate  Distance  Date_received  \\\n",
       "0  1439408         2632     8591.0          20:1       0.0     20160217.0   \n",
       "1  1439408         2632     1078.0          20:1       0.0     20160319.0   \n",
       "2  1832624         3381     7610.0        200:20       0.0     20160429.0   \n",
       "3  2029232         3381    11951.0        200:20       1.0     20160129.0   \n",
       "4  2223968         3381     9776.0          10:5       2.0     20160129.0   \n",
       "\n",
       "   Date  label  weekday  weekday_type  ...  weekday_2  weekday_3  weekday_4  \\\n",
       "0   NaN      0        3             0  ...          0          1          0   \n",
       "1   NaN      0        6             1  ...          0          0          0   \n",
       "2   NaN      0        5             0  ...          0          0          0   \n",
       "3   NaN      0        5             0  ...          0          0          0   \n",
       "4   NaN      0        5             0  ...          0          0          0   \n",
       "\n",
       "   weekday_5  weekday_6  weekday_7  month_term  early_term  mid_term  \\\n",
       "0          0          0          0           2           0         1   \n",
       "1          0          1          0           2           0         1   \n",
       "2          1          0          0           3           0         0   \n",
       "3          1          0          0           3           0         0   \n",
       "4          1          0          0           3           0         0   \n",
       "\n",
       "   late_term  \n",
       "0          0  \n",
       "1          0  \n",
       "2          1  \n",
       "3          1  \n",
       "4          1  \n",
       "\n",
       "[5 rows x 21 columns]"
      ]
     },
     "execution_count": 8,
     "metadata": {},
     "output_type": "execute_result"
    }
   ],
   "source": [
    "# onehot encoding for month_term\n",
    "month_term_cols = ['early_term', 'mid_term', 'late_term']\n",
    "\n",
    "tmpdf = pd.get_dummies(df_train['month_term'])\n",
    "tmpdf.columns = month_term_cols\n",
    "df_train[month_term_cols] = tmpdf\n",
    "\n",
    "tmpdf = pd.get_dummies(df_test['month_term'])\n",
    "tmpdf.columns = month_term_cols\n",
    "df_test[month_term_cols] = tmpdf\n",
    "\n",
    "df_train.head()"
   ]
  },
  {
   "cell_type": "code",
   "execution_count": 9,
   "metadata": {},
   "outputs": [
    {
     "data": {
      "text/html": [
       "<div>\n",
       "<style scoped>\n",
       "    .dataframe tbody tr th:only-of-type {\n",
       "        vertical-align: middle;\n",
       "    }\n",
       "\n",
       "    .dataframe tbody tr th {\n",
       "        vertical-align: top;\n",
       "    }\n",
       "\n",
       "    .dataframe thead th {\n",
       "        text-align: right;\n",
       "    }\n",
       "</style>\n",
       "<table border=\"1\" class=\"dataframe\">\n",
       "  <thead>\n",
       "    <tr style=\"text-align: right;\">\n",
       "      <th></th>\n",
       "      <th>User_id</th>\n",
       "      <th>Merchant_id</th>\n",
       "      <th>Coupon_id</th>\n",
       "      <th>Discount_rate</th>\n",
       "      <th>Distance</th>\n",
       "      <th>Date_received</th>\n",
       "      <th>Date</th>\n",
       "      <th>label</th>\n",
       "      <th>weekday</th>\n",
       "      <th>weekday_type</th>\n",
       "      <th>...</th>\n",
       "      <th>weekday_7</th>\n",
       "      <th>month_term</th>\n",
       "      <th>early_term</th>\n",
       "      <th>mid_term</th>\n",
       "      <th>late_term</th>\n",
       "      <th>discount_rate</th>\n",
       "      <th>discount_man</th>\n",
       "      <th>discount_jian</th>\n",
       "      <th>discount_type</th>\n",
       "      <th>discount_spread</th>\n",
       "    </tr>\n",
       "  </thead>\n",
       "  <tbody>\n",
       "    <tr>\n",
       "      <th>0</th>\n",
       "      <td>1439408</td>\n",
       "      <td>2632</td>\n",
       "      <td>8591.0</td>\n",
       "      <td>20:1</td>\n",
       "      <td>0.0</td>\n",
       "      <td>20160217.0</td>\n",
       "      <td>NaN</td>\n",
       "      <td>0</td>\n",
       "      <td>3</td>\n",
       "      <td>0</td>\n",
       "      <td>...</td>\n",
       "      <td>0</td>\n",
       "      <td>2</td>\n",
       "      <td>0</td>\n",
       "      <td>1</td>\n",
       "      <td>0</td>\n",
       "      <td>0.95</td>\n",
       "      <td>20</td>\n",
       "      <td>1</td>\n",
       "      <td>1</td>\n",
       "      <td>19.0</td>\n",
       "    </tr>\n",
       "    <tr>\n",
       "      <th>1</th>\n",
       "      <td>1439408</td>\n",
       "      <td>2632</td>\n",
       "      <td>1078.0</td>\n",
       "      <td>20:1</td>\n",
       "      <td>0.0</td>\n",
       "      <td>20160319.0</td>\n",
       "      <td>NaN</td>\n",
       "      <td>0</td>\n",
       "      <td>6</td>\n",
       "      <td>1</td>\n",
       "      <td>...</td>\n",
       "      <td>0</td>\n",
       "      <td>2</td>\n",
       "      <td>0</td>\n",
       "      <td>1</td>\n",
       "      <td>0</td>\n",
       "      <td>0.95</td>\n",
       "      <td>20</td>\n",
       "      <td>1</td>\n",
       "      <td>1</td>\n",
       "      <td>19.0</td>\n",
       "    </tr>\n",
       "    <tr>\n",
       "      <th>2</th>\n",
       "      <td>1832624</td>\n",
       "      <td>3381</td>\n",
       "      <td>7610.0</td>\n",
       "      <td>200:20</td>\n",
       "      <td>0.0</td>\n",
       "      <td>20160429.0</td>\n",
       "      <td>NaN</td>\n",
       "      <td>0</td>\n",
       "      <td>5</td>\n",
       "      <td>0</td>\n",
       "      <td>...</td>\n",
       "      <td>0</td>\n",
       "      <td>3</td>\n",
       "      <td>0</td>\n",
       "      <td>0</td>\n",
       "      <td>1</td>\n",
       "      <td>0.90</td>\n",
       "      <td>200</td>\n",
       "      <td>20</td>\n",
       "      <td>1</td>\n",
       "      <td>180.0</td>\n",
       "    </tr>\n",
       "    <tr>\n",
       "      <th>3</th>\n",
       "      <td>2029232</td>\n",
       "      <td>3381</td>\n",
       "      <td>11951.0</td>\n",
       "      <td>200:20</td>\n",
       "      <td>1.0</td>\n",
       "      <td>20160129.0</td>\n",
       "      <td>NaN</td>\n",
       "      <td>0</td>\n",
       "      <td>5</td>\n",
       "      <td>0</td>\n",
       "      <td>...</td>\n",
       "      <td>0</td>\n",
       "      <td>3</td>\n",
       "      <td>0</td>\n",
       "      <td>0</td>\n",
       "      <td>1</td>\n",
       "      <td>0.90</td>\n",
       "      <td>200</td>\n",
       "      <td>20</td>\n",
       "      <td>1</td>\n",
       "      <td>180.0</td>\n",
       "    </tr>\n",
       "    <tr>\n",
       "      <th>4</th>\n",
       "      <td>2223968</td>\n",
       "      <td>3381</td>\n",
       "      <td>9776.0</td>\n",
       "      <td>10:5</td>\n",
       "      <td>2.0</td>\n",
       "      <td>20160129.0</td>\n",
       "      <td>NaN</td>\n",
       "      <td>0</td>\n",
       "      <td>5</td>\n",
       "      <td>0</td>\n",
       "      <td>...</td>\n",
       "      <td>0</td>\n",
       "      <td>3</td>\n",
       "      <td>0</td>\n",
       "      <td>0</td>\n",
       "      <td>1</td>\n",
       "      <td>0.50</td>\n",
       "      <td>10</td>\n",
       "      <td>5</td>\n",
       "      <td>1</td>\n",
       "      <td>5.0</td>\n",
       "    </tr>\n",
       "  </tbody>\n",
       "</table>\n",
       "<p>5 rows × 26 columns</p>\n",
       "</div>"
      ],
      "text/plain": [
       "   User_id  Merchant_id  Coupon_id Discount_rate  Distance  Date_received  \\\n",
       "0  1439408         2632     8591.0          20:1       0.0     20160217.0   \n",
       "1  1439408         2632     1078.0          20:1       0.0     20160319.0   \n",
       "2  1832624         3381     7610.0        200:20       0.0     20160429.0   \n",
       "3  2029232         3381    11951.0        200:20       1.0     20160129.0   \n",
       "4  2223968         3381     9776.0          10:5       2.0     20160129.0   \n",
       "\n",
       "   Date  label  weekday  weekday_type  ...  weekday_7  month_term  early_term  \\\n",
       "0   NaN      0        3             0  ...          0           2           0   \n",
       "1   NaN      0        6             1  ...          0           2           0   \n",
       "2   NaN      0        5             0  ...          0           3           0   \n",
       "3   NaN      0        5             0  ...          0           3           0   \n",
       "4   NaN      0        5             0  ...          0           3           0   \n",
       "\n",
       "   mid_term  late_term  discount_rate  discount_man  discount_jian  \\\n",
       "0         1          0           0.95            20              1   \n",
       "1         1          0           0.95            20              1   \n",
       "2         0          1           0.90           200             20   \n",
       "3         0          1           0.90           200             20   \n",
       "4         0          1           0.50            10              5   \n",
       "\n",
       "   discount_type  discount_spread  \n",
       "0              1             19.0  \n",
       "1              1             19.0  \n",
       "2              1            180.0  \n",
       "3              1            180.0  \n",
       "4              1              5.0  \n",
       "\n",
       "[5 rows x 26 columns]"
      ]
     },
     "execution_count": 9,
     "metadata": {},
     "output_type": "execute_result"
    }
   ],
   "source": [
    "# 整理 coupon 券的各種型態\n",
    "def getDiscountType(row):\n",
    "    if row == 'null':\n",
    "        return 'null'\n",
    "    elif ':' in row:\n",
    "        return 1\n",
    "    else:\n",
    "        return 0\n",
    "\n",
    "def convertRate(row):\n",
    "    \"\"\"Convert discount to rate\"\"\"\n",
    "    if row == 'null':\n",
    "        return 1.0\n",
    "    elif ':' in row:\n",
    "        rows = row.split(':')\n",
    "        return 1.0 - float(rows[1])/float(rows[0])\n",
    "    else:\n",
    "        return float(row)\n",
    "\n",
    "def getDiscountMan(row):\n",
    "    if ':' in row:\n",
    "        rows = row.split(':')\n",
    "        return int(rows[0])\n",
    "    else:\n",
    "        return 0\n",
    "\n",
    "def getDiscountJian(row):\n",
    "    if ':' in row:\n",
    "        rows = row.split(':')\n",
    "        return int(rows[1])\n",
    "    else:\n",
    "        return 0\n",
    "    \n",
    "# 計算優惠價差\n",
    "def getDicountSpread(row):\n",
    "    if ':' in row:\n",
    "        p = row.split(':')\n",
    "        return int(p[0]) - int(p[1])\n",
    "#         return math.log(int(p[0]) - int(p[1]))\n",
    "    else:\n",
    "        # 折扣率以 5 元為進行計算（因為資料中最小為5元）\n",
    "        return 10*(1-float(row))\n",
    "#         return  math.log(10*(1-float(row)))\n",
    "    \n",
    "\n",
    "def processData(df):\n",
    "    \n",
    "    # convert discunt_rate\n",
    "    df['discount_rate'] = df['Discount_rate'].astype('str').apply(convertRate)\n",
    "    df['discount_man'] = df['Discount_rate'].astype('str').apply(getDiscountMan)\n",
    "    df['discount_jian'] = df['Discount_rate'].astype('str').apply(getDiscountJian)\n",
    "    df['discount_type'] = df['Discount_rate'].astype('str').apply(getDiscountType)\n",
    "    df['discount_spread'] = df['Discount_rate'].astype('str').apply(getDicountSpread)\n",
    "    \n",
    "    # convert distance\n",
    "    df.loc[df.Distance.isna(), \"Distance\"] = 99\n",
    "    return df\n",
    "\n",
    "df_train = processData(df_train)\n",
    "df_test = processData(df_test)\n",
    "df_train.head()"
   ]
  },
  {
   "cell_type": "code",
   "execution_count": 10,
   "metadata": {},
   "outputs": [
    {
     "data": {
      "text/html": [
       "<div>\n",
       "<style scoped>\n",
       "    .dataframe tbody tr th:only-of-type {\n",
       "        vertical-align: middle;\n",
       "    }\n",
       "\n",
       "    .dataframe tbody tr th {\n",
       "        vertical-align: top;\n",
       "    }\n",
       "\n",
       "    .dataframe thead th {\n",
       "        text-align: right;\n",
       "    }\n",
       "</style>\n",
       "<table border=\"1\" class=\"dataframe\">\n",
       "  <thead>\n",
       "    <tr style=\"text-align: right;\">\n",
       "      <th></th>\n",
       "      <th>User_id</th>\n",
       "      <th>Merchant_id</th>\n",
       "      <th>Coupon_id</th>\n",
       "      <th>Discount_rate</th>\n",
       "      <th>Distance</th>\n",
       "      <th>Date_received</th>\n",
       "      <th>Date</th>\n",
       "      <th>label</th>\n",
       "      <th>weekday</th>\n",
       "      <th>weekday_type</th>\n",
       "      <th>...</th>\n",
       "      <th>discount_man</th>\n",
       "      <th>discount_jian</th>\n",
       "      <th>discount_type</th>\n",
       "      <th>discount_spread</th>\n",
       "      <th>distance_category</th>\n",
       "      <th>distance_0</th>\n",
       "      <th>distance_1</th>\n",
       "      <th>distance_2</th>\n",
       "      <th>distance_3</th>\n",
       "      <th>distance_4</th>\n",
       "    </tr>\n",
       "  </thead>\n",
       "  <tbody>\n",
       "    <tr>\n",
       "      <th>0</th>\n",
       "      <td>1439408</td>\n",
       "      <td>2632</td>\n",
       "      <td>8591.0</td>\n",
       "      <td>20:1</td>\n",
       "      <td>0.0</td>\n",
       "      <td>20160217.0</td>\n",
       "      <td>NaN</td>\n",
       "      <td>0</td>\n",
       "      <td>3</td>\n",
       "      <td>0</td>\n",
       "      <td>...</td>\n",
       "      <td>20</td>\n",
       "      <td>1</td>\n",
       "      <td>1</td>\n",
       "      <td>19.0</td>\n",
       "      <td>0</td>\n",
       "      <td>1</td>\n",
       "      <td>0</td>\n",
       "      <td>0</td>\n",
       "      <td>0</td>\n",
       "      <td>0</td>\n",
       "    </tr>\n",
       "    <tr>\n",
       "      <th>1</th>\n",
       "      <td>1439408</td>\n",
       "      <td>2632</td>\n",
       "      <td>1078.0</td>\n",
       "      <td>20:1</td>\n",
       "      <td>0.0</td>\n",
       "      <td>20160319.0</td>\n",
       "      <td>NaN</td>\n",
       "      <td>0</td>\n",
       "      <td>6</td>\n",
       "      <td>1</td>\n",
       "      <td>...</td>\n",
       "      <td>20</td>\n",
       "      <td>1</td>\n",
       "      <td>1</td>\n",
       "      <td>19.0</td>\n",
       "      <td>0</td>\n",
       "      <td>1</td>\n",
       "      <td>0</td>\n",
       "      <td>0</td>\n",
       "      <td>0</td>\n",
       "      <td>0</td>\n",
       "    </tr>\n",
       "    <tr>\n",
       "      <th>2</th>\n",
       "      <td>1832624</td>\n",
       "      <td>3381</td>\n",
       "      <td>7610.0</td>\n",
       "      <td>200:20</td>\n",
       "      <td>0.0</td>\n",
       "      <td>20160429.0</td>\n",
       "      <td>NaN</td>\n",
       "      <td>0</td>\n",
       "      <td>5</td>\n",
       "      <td>0</td>\n",
       "      <td>...</td>\n",
       "      <td>200</td>\n",
       "      <td>20</td>\n",
       "      <td>1</td>\n",
       "      <td>180.0</td>\n",
       "      <td>0</td>\n",
       "      <td>1</td>\n",
       "      <td>0</td>\n",
       "      <td>0</td>\n",
       "      <td>0</td>\n",
       "      <td>0</td>\n",
       "    </tr>\n",
       "    <tr>\n",
       "      <th>3</th>\n",
       "      <td>2029232</td>\n",
       "      <td>3381</td>\n",
       "      <td>11951.0</td>\n",
       "      <td>200:20</td>\n",
       "      <td>1.0</td>\n",
       "      <td>20160129.0</td>\n",
       "      <td>NaN</td>\n",
       "      <td>0</td>\n",
       "      <td>5</td>\n",
       "      <td>0</td>\n",
       "      <td>...</td>\n",
       "      <td>200</td>\n",
       "      <td>20</td>\n",
       "      <td>1</td>\n",
       "      <td>180.0</td>\n",
       "      <td>1</td>\n",
       "      <td>0</td>\n",
       "      <td>1</td>\n",
       "      <td>0</td>\n",
       "      <td>0</td>\n",
       "      <td>0</td>\n",
       "    </tr>\n",
       "    <tr>\n",
       "      <th>4</th>\n",
       "      <td>2223968</td>\n",
       "      <td>3381</td>\n",
       "      <td>9776.0</td>\n",
       "      <td>10:5</td>\n",
       "      <td>2.0</td>\n",
       "      <td>20160129.0</td>\n",
       "      <td>NaN</td>\n",
       "      <td>0</td>\n",
       "      <td>5</td>\n",
       "      <td>0</td>\n",
       "      <td>...</td>\n",
       "      <td>10</td>\n",
       "      <td>5</td>\n",
       "      <td>1</td>\n",
       "      <td>5.0</td>\n",
       "      <td>2</td>\n",
       "      <td>0</td>\n",
       "      <td>0</td>\n",
       "      <td>1</td>\n",
       "      <td>0</td>\n",
       "      <td>0</td>\n",
       "    </tr>\n",
       "    <tr>\n",
       "      <th>5</th>\n",
       "      <td>73611</td>\n",
       "      <td>2099</td>\n",
       "      <td>12034.0</td>\n",
       "      <td>100:10</td>\n",
       "      <td>99.0</td>\n",
       "      <td>20160207.0</td>\n",
       "      <td>NaN</td>\n",
       "      <td>0</td>\n",
       "      <td>7</td>\n",
       "      <td>1</td>\n",
       "      <td>...</td>\n",
       "      <td>100</td>\n",
       "      <td>10</td>\n",
       "      <td>1</td>\n",
       "      <td>90.0</td>\n",
       "      <td>4</td>\n",
       "      <td>0</td>\n",
       "      <td>0</td>\n",
       "      <td>0</td>\n",
       "      <td>0</td>\n",
       "      <td>1</td>\n",
       "    </tr>\n",
       "    <tr>\n",
       "      <th>6</th>\n",
       "      <td>163606</td>\n",
       "      <td>1569</td>\n",
       "      <td>5054.0</td>\n",
       "      <td>200:30</td>\n",
       "      <td>10.0</td>\n",
       "      <td>20160421.0</td>\n",
       "      <td>NaN</td>\n",
       "      <td>0</td>\n",
       "      <td>4</td>\n",
       "      <td>0</td>\n",
       "      <td>...</td>\n",
       "      <td>200</td>\n",
       "      <td>30</td>\n",
       "      <td>1</td>\n",
       "      <td>170.0</td>\n",
       "      <td>3</td>\n",
       "      <td>0</td>\n",
       "      <td>0</td>\n",
       "      <td>0</td>\n",
       "      <td>1</td>\n",
       "      <td>0</td>\n",
       "    </tr>\n",
       "    <tr>\n",
       "      <th>7</th>\n",
       "      <td>3273056</td>\n",
       "      <td>4833</td>\n",
       "      <td>7802.0</td>\n",
       "      <td>200:20</td>\n",
       "      <td>10.0</td>\n",
       "      <td>20160130.0</td>\n",
       "      <td>NaN</td>\n",
       "      <td>0</td>\n",
       "      <td>6</td>\n",
       "      <td>1</td>\n",
       "      <td>...</td>\n",
       "      <td>200</td>\n",
       "      <td>20</td>\n",
       "      <td>1</td>\n",
       "      <td>180.0</td>\n",
       "      <td>3</td>\n",
       "      <td>0</td>\n",
       "      <td>0</td>\n",
       "      <td>0</td>\n",
       "      <td>1</td>\n",
       "      <td>0</td>\n",
       "    </tr>\n",
       "    <tr>\n",
       "      <th>8</th>\n",
       "      <td>94107</td>\n",
       "      <td>3381</td>\n",
       "      <td>7610.0</td>\n",
       "      <td>200:20</td>\n",
       "      <td>2.0</td>\n",
       "      <td>20160412.0</td>\n",
       "      <td>NaN</td>\n",
       "      <td>0</td>\n",
       "      <td>2</td>\n",
       "      <td>0</td>\n",
       "      <td>...</td>\n",
       "      <td>200</td>\n",
       "      <td>20</td>\n",
       "      <td>1</td>\n",
       "      <td>180.0</td>\n",
       "      <td>2</td>\n",
       "      <td>0</td>\n",
       "      <td>0</td>\n",
       "      <td>1</td>\n",
       "      <td>0</td>\n",
       "      <td>0</td>\n",
       "    </tr>\n",
       "    <tr>\n",
       "      <th>9</th>\n",
       "      <td>253750</td>\n",
       "      <td>8390</td>\n",
       "      <td>7531.0</td>\n",
       "      <td>20:5</td>\n",
       "      <td>0.0</td>\n",
       "      <td>20160327.0</td>\n",
       "      <td>NaN</td>\n",
       "      <td>0</td>\n",
       "      <td>7</td>\n",
       "      <td>1</td>\n",
       "      <td>...</td>\n",
       "      <td>20</td>\n",
       "      <td>5</td>\n",
       "      <td>1</td>\n",
       "      <td>15.0</td>\n",
       "      <td>0</td>\n",
       "      <td>1</td>\n",
       "      <td>0</td>\n",
       "      <td>0</td>\n",
       "      <td>0</td>\n",
       "      <td>0</td>\n",
       "    </tr>\n",
       "  </tbody>\n",
       "</table>\n",
       "<p>10 rows × 32 columns</p>\n",
       "</div>"
      ],
      "text/plain": [
       "   User_id  Merchant_id  Coupon_id Discount_rate  Distance  Date_received  \\\n",
       "0  1439408         2632     8591.0          20:1       0.0     20160217.0   \n",
       "1  1439408         2632     1078.0          20:1       0.0     20160319.0   \n",
       "2  1832624         3381     7610.0        200:20       0.0     20160429.0   \n",
       "3  2029232         3381    11951.0        200:20       1.0     20160129.0   \n",
       "4  2223968         3381     9776.0          10:5       2.0     20160129.0   \n",
       "5    73611         2099    12034.0        100:10      99.0     20160207.0   \n",
       "6   163606         1569     5054.0        200:30      10.0     20160421.0   \n",
       "7  3273056         4833     7802.0        200:20      10.0     20160130.0   \n",
       "8    94107         3381     7610.0        200:20       2.0     20160412.0   \n",
       "9   253750         8390     7531.0          20:5       0.0     20160327.0   \n",
       "\n",
       "   Date  label  weekday  weekday_type  ...  discount_man  discount_jian  \\\n",
       "0   NaN      0        3             0  ...            20              1   \n",
       "1   NaN      0        6             1  ...            20              1   \n",
       "2   NaN      0        5             0  ...           200             20   \n",
       "3   NaN      0        5             0  ...           200             20   \n",
       "4   NaN      0        5             0  ...            10              5   \n",
       "5   NaN      0        7             1  ...           100             10   \n",
       "6   NaN      0        4             0  ...           200             30   \n",
       "7   NaN      0        6             1  ...           200             20   \n",
       "8   NaN      0        2             0  ...           200             20   \n",
       "9   NaN      0        7             1  ...            20              5   \n",
       "\n",
       "   discount_type  discount_spread  distance_category  distance_0  distance_1  \\\n",
       "0              1             19.0                  0           1           0   \n",
       "1              1             19.0                  0           1           0   \n",
       "2              1            180.0                  0           1           0   \n",
       "3              1            180.0                  1           0           1   \n",
       "4              1              5.0                  2           0           0   \n",
       "5              1             90.0                  4           0           0   \n",
       "6              1            170.0                  3           0           0   \n",
       "7              1            180.0                  3           0           0   \n",
       "8              1            180.0                  2           0           0   \n",
       "9              1             15.0                  0           1           0   \n",
       "\n",
       "   distance_2  distance_3  distance_4  \n",
       "0           0           0           0  \n",
       "1           0           0           0  \n",
       "2           0           0           0  \n",
       "3           0           0           0  \n",
       "4           1           0           0  \n",
       "5           0           0           1  \n",
       "6           0           1           0  \n",
       "7           0           1           0  \n",
       "8           1           0           0  \n",
       "9           0           0           0  \n",
       "\n",
       "[10 rows x 32 columns]"
      ]
     },
     "execution_count": 10,
     "metadata": {},
     "output_type": "execute_result"
    }
   ],
   "source": [
    "# 將距離簡化成少數類型\n",
    "distance_cols =  ['0', '1', '2', '3', '4']\n",
    "bins  = [-1, 0, 1, 3, 10, 100]\n",
    "df_train['distance_category'] = pd.cut( df_train['Distance'], bins = bins, include_lowest=False, labels=distance_cols)\n",
    "tmpdf = pd.get_dummies(df_train['distance_category'], prefix=\"distance\")\n",
    "df_train[list(tmpdf.columns)] = tmpdf\n",
    "\n",
    "df_test['distance_category'] = pd.cut( df_test['Distance'], bins = bins, include_lowest=False, labels=distance_cols)\n",
    "tmpdf = pd.get_dummies(df_test['distance_category'], prefix=\"distance\")\n",
    "df_test[list(tmpdf.columns)] = tmpdf\n",
    "\n",
    "distance_cols = list(tmpdf.columns)\n",
    "\n",
    "df_train.head(10)"
   ]
  },
  {
   "cell_type": "code",
   "execution_count": 11,
   "metadata": {},
   "outputs": [
    {
     "name": "stdout",
     "output_type": "stream",
     "text": [
      "24 ['Distance', 'distance_0', 'distance_1', 'distance_2', 'distance_3', 'distance_4', 'weekday', 'weekday_type', 'weekday_1', 'weekday_2', 'weekday_3', 'weekday_4', 'weekday_5', 'weekday_6', 'weekday_7', 'month_term', 'early_term', 'mid_term', 'late_term', 'discount_rate', 'discount_man', 'discount_jian', 'discount_type', 'discount_spread']\n"
     ]
    }
   ],
   "source": [
    "### 決定投入的參數\n",
    "# predict_feature = \\\n",
    "#     [ 'Distance', 'distance_category' ] + distance_cols + \\\n",
    "#     [ 'weekday', 'weekday_type' ] + weekdaycols + \\\n",
    "#     [ 'month_term' ] + month_term_cols + \\\n",
    "#     [ 'discount_rate', 'discount_man', 'discount_jian', 'discount_type', 'discount_spread']\n",
    "\n",
    "predict_feature = \\\n",
    "    [ 'Distance' ] + distance_cols + \\\n",
    "    [ 'weekday', 'weekday_type' ] + weekdaycols + \\\n",
    "    [ 'month_term' ] + month_term_cols + \\\n",
    "    [ 'discount_rate', 'discount_man', 'discount_jian', 'discount_type', 'discount_spread']\n",
    "\n",
    "\n",
    "# predict_feature = \\\n",
    "#     [ 'Distance', 'weekday_type' ] + weekdaycols + month_term_cols + \\\n",
    "#     [ 'discount_rate', 'discount_man', 'discount_jian', 'discount_type', 'discount_spread']\n",
    "\n",
    "print(len(predict_feature),predict_feature)"
   ]
  },
  {
   "cell_type": "code",
   "execution_count": 12,
   "metadata": {},
   "outputs": [],
   "source": [
    "# 切割訓練、測試用資料\n",
    "\n",
    "# 正規化\n",
    "sc=StandardScaler()\n",
    "# sc.fit(df_train)\n",
    "\n",
    "# df_train = sc.transform(df_train)\n",
    "# df_test = sc.transform(df_test)\n",
    "\n",
    "# 訓練用特徵資料\n",
    "train_feature =  df_train[predict_feature]\n",
    "train_label = df_train['label']\n",
    "\n",
    "# 預測用特徵資料\n",
    "test_feature = df_test[predict_feature]"
   ]
  },
  {
   "cell_type": "code",
   "execution_count": 13,
   "metadata": {},
   "outputs": [],
   "source": [
    "# 顯示訓練狀況\n",
    "def show_predict_result(labeld, predict_proba):\n",
    "    auc_score = roc_auc_score(y_true=labeld, y_score=predict_proba[:,1])\n",
    "    acc = accuracy_score(y_true=labeld, y_pred=predict_proba.argmax(axis=1))\n",
    "    print(\"Validation AUC: {:.3f}, Accuracy: {:.3f}\".format(auc_score, acc))\n",
    "    return auc_score, acc"
   ]
  },
  {
   "cell_type": "code",
   "execution_count": 14,
   "metadata": {},
   "outputs": [],
   "source": [
    "# 保存預測結果\n",
    "\n",
    "def save_predict_data(classifier, predict_data, predict_feature, filename = None):\n",
    "\n",
    "    data = predict_data[predict_feature].copy()\n",
    "\n",
    "    out_name = filename if filename is not None else classifier.__class__.__name__\n",
    "\n",
    "    predict_result = classifier.predict_proba(data)\n",
    "    data['pred_prob'] = predict_result[:, 1]\n",
    "\n",
    "    output = pd.concat((predict_data[[\"User_id\", \"Coupon_id\", \"Date_received\"]], data['pred_prob']), axis=1)\n",
    "\n",
    "    output.loc[:, \"User_id\"] = output[\"User_id\"].apply(lambda x:str(int(x)))\n",
    "    output.loc[:, \"Coupon_id\"] = output[\"Coupon_id\"].apply(lambda x:str(int(x)))\n",
    "    output.loc[:, \"Date_received\"] = output[\"Date_received\"].apply(lambda x:str(int(x)))\n",
    "    output[\"uid\"] = output[[\"User_id\", \"Coupon_id\", \"Date_received\"]].apply(lambda x: '_'.join(x.values), axis=1)\n",
    "    output.reset_index(drop=True, inplace=True)\n",
    "\n",
    "    out = output.groupby(\"uid\", as_index=False).mean()\n",
    "    out = out[[\"uid\", \"pred_prob\"]]\n",
    "    out.columns = [\"uid\", \"label\"]\n",
    "\n",
    "    now = datetime.now().strftime( '%Y%m%dT%H%M%S' )\n",
    "    output_filename = \"{}-{}.csv\".format(out_name, now)\n",
    "\n",
    "    out.to_csv(output_filename, header=[\"uid\", \"label\"], index=False) # submission format\n",
    "\n",
    "    return output_filename"
   ]
  },
  {
   "cell_type": "code",
   "execution_count": 15,
   "metadata": {},
   "outputs": [],
   "source": [
    "train_x, valid_x, train_y, valid_y  =  train_test_split(train_feature,  train_label, test_size=0.2)"
   ]
  },
  {
   "cell_type": "code",
   "execution_count": 16,
   "metadata": {},
   "outputs": [
    {
     "name": "stderr",
     "output_type": "stream",
     "text": [
      "/usr/local/anaconda3/envs/ml100marathon/lib/python3.6/site-packages/sklearn/linear_model/logistic.py:432: FutureWarning: Default solver will be changed to 'lbfgs' in 0.22. Specify a solver to silence this warning.\n",
      "  FutureWarning)\n"
     ]
    },
    {
     "name": "stdout",
     "output_type": "stream",
     "text": [
      "Validation AUC: 0.806, Accuracy: 0.951\n"
     ]
    },
    {
     "data": {
      "text/plain": [
       "(0.8063263529420865, 0.9513902834116498)"
      ]
     },
     "execution_count": 16,
     "metadata": {},
     "output_type": "execute_result"
    }
   ],
   "source": [
    "# LogisticRegression\n",
    "lr = LogisticRegression()\n",
    "lr.fit(train_x, train_y)\n",
    "valid_predict_lr = lr.predict_proba(valid_x)\n",
    "show_predict_result(valid_y, valid_predict_lr)"
   ]
  },
  {
   "cell_type": "code",
   "execution_count": 17,
   "metadata": {},
   "outputs": [
    {
     "data": {
      "text/plain": [
       "'lr-20190619T230726.csv'"
      ]
     },
     "execution_count": 17,
     "metadata": {},
     "output_type": "execute_result"
    }
   ],
   "source": [
    "save_predict_data(lr, df_test, predict_feature, filename = 'lr' )"
   ]
  },
  {
   "cell_type": "code",
   "execution_count": 18,
   "metadata": {},
   "outputs": [
    {
     "name": "stdout",
     "output_type": "stream",
     "text": [
      "Validation AUC: 0.824, Accuracy: 0.951\n"
     ]
    },
    {
     "data": {
      "text/plain": [
       "(0.8237016621017139, 0.9513969771209018)"
      ]
     },
     "execution_count": 18,
     "metadata": {},
     "output_type": "execute_result"
    }
   ],
   "source": [
    "# GradientBoostingClassifier\n",
    "gbc = GradientBoostingClassifier()\n",
    "gbc.fit(train_x, train_y)\n",
    "valid_predict_gbc = gbc.predict_proba(valid_x)\n",
    "show_predict_result(valid_y, valid_predict_gbc)"
   ]
  },
  {
   "cell_type": "code",
   "execution_count": 19,
   "metadata": {},
   "outputs": [
    {
     "data": {
      "text/plain": [
       "'gbc-20190619T230832.csv'"
      ]
     },
     "execution_count": 19,
     "metadata": {},
     "output_type": "execute_result"
    }
   ],
   "source": [
    "save_predict_data(gbc, df_test, predict_feature, filename = 'gbc' )"
   ]
  },
  {
   "cell_type": "code",
   "execution_count": 20,
   "metadata": {},
   "outputs": [
    {
     "name": "stdout",
     "output_type": "stream",
     "text": [
      "Validation AUC: 0.831, Accuracy: 0.951\n"
     ]
    },
    {
     "data": {
      "text/plain": [
       "(0.8310306605727533, 0.9514036708301539)"
      ]
     },
     "execution_count": 20,
     "metadata": {},
     "output_type": "execute_result"
    }
   ],
   "source": [
    "# LGBMClassifier\n",
    "lgbm = LGBMClassifier()\n",
    "lgbm.fit(train_x, train_y)\n",
    "valid_predict_lgbm = lgbm.predict_proba(valid_x)\n",
    "show_predict_result(valid_y, valid_predict_lgbm)"
   ]
  },
  {
   "cell_type": "code",
   "execution_count": 21,
   "metadata": {},
   "outputs": [
    {
     "data": {
      "text/plain": [
       "'lgbm-20190619T230837.csv'"
      ]
     },
     "execution_count": 21,
     "metadata": {},
     "output_type": "execute_result"
    }
   ],
   "source": [
    "save_predict_data(lgbm, df_test, predict_feature, filename = 'lgbm' )"
   ]
  },
  {
   "cell_type": "code",
   "execution_count": 22,
   "metadata": {},
   "outputs": [
    {
     "name": "stdout",
     "output_type": "stream",
     "text": [
      "Validation AUC: 0.823, Accuracy: 0.951\n"
     ]
    },
    {
     "data": {
      "text/plain": [
       "(0.823002272285429, 0.9513902834116498)"
      ]
     },
     "execution_count": 22,
     "metadata": {},
     "output_type": "execute_result"
    }
   ],
   "source": [
    "# XGBClassifier\n",
    "xgb = XGBClassifier()\n",
    "xgb.fit(train_x, train_y)\n",
    "valid_predict_xgb = xgb.predict_proba(valid_x)\n",
    "show_predict_result(valid_y, valid_predict_xgb)"
   ]
  },
  {
   "cell_type": "code",
   "execution_count": 23,
   "metadata": {},
   "outputs": [
    {
     "data": {
      "text/plain": [
       "'xgb-20190619T230925.csv'"
      ]
     },
     "execution_count": 23,
     "metadata": {},
     "output_type": "execute_result"
    }
   ],
   "source": [
    "save_predict_data(xgb, df_test, predict_feature, filename = 'xgb' )"
   ]
  },
  {
   "cell_type": "code",
   "execution_count": 24,
   "metadata": {},
   "outputs": [
    {
     "name": "stdout",
     "output_type": "stream",
     "text": [
      "Validation AUC: 0.813, Accuracy: 0.951\n"
     ]
    },
    {
     "data": {
      "text/plain": [
       "(0.8125889176777212, 0.9513902834116498)"
      ]
     },
     "execution_count": 24,
     "metadata": {},
     "output_type": "execute_result"
    }
   ],
   "source": [
    "# AdaBoost\n",
    "ada = AdaBoostClassifier()\n",
    "ada.fit(train_x, train_y)\n",
    "valid_predict_ada = ada.predict_proba(valid_x)\n",
    "show_predict_result(valid_y, valid_predict_ada)"
   ]
  },
  {
   "cell_type": "code",
   "execution_count": 25,
   "metadata": {},
   "outputs": [
    {
     "data": {
      "text/plain": [
       "'ada-20190619T230947.csv'"
      ]
     },
     "execution_count": 25,
     "metadata": {},
     "output_type": "execute_result"
    }
   ],
   "source": [
    "save_predict_data(ada, df_test, predict_feature, filename = 'ada' )"
   ]
  },
  {
   "cell_type": "code",
   "execution_count": 26,
   "metadata": {},
   "outputs": [
    {
     "name": "stdout",
     "output_type": "stream",
     "text": [
      "Validation AUC: 0.811, Accuracy: 0.951\n"
     ]
    },
    {
     "data": {
      "text/plain": [
       "(0.8111718594325641, 0.9512028595525924)"
      ]
     },
     "execution_count": 26,
     "metadata": {},
     "output_type": "execute_result"
    }
   ],
   "source": [
    "# 決策樹 - gini\n",
    "dt_gini = DecisionTreeClassifier(criterion = 'gini')\n",
    "dt_gini.fit(train_x, train_y)\n",
    "# gini_dt_acc = cross_val_score(decisionTree_gini, train_x, train_y, cv = 10, scoring = 'accuracy')\n",
    "# gini_dt_f1 = cross_val_score(decisionTree_gini, train_x, train_y, cv = 10, scoring = 'f1')\n",
    "# gini_dt_auc = cross_val_score(decisionTree_gini, train_x, train_y, cv = 10, scoring = 'accuracy')\n",
    "# print(gini_dt_acc.mean(), gini_dt_f1.mean(), gini_dt_auc.mean())\n",
    "valid_predict_dt_gini = dt_gini.predict_proba(valid_x)\n",
    "show_predict_result(valid_y, valid_predict_dt_gini)"
   ]
  },
  {
   "cell_type": "code",
   "execution_count": 27,
   "metadata": {},
   "outputs": [
    {
     "data": {
      "text/plain": [
       "'dt_gini-20190619T230953.csv'"
      ]
     },
     "execution_count": 27,
     "metadata": {},
     "output_type": "execute_result"
    }
   ],
   "source": [
    "save_predict_data(dt_gini, df_test, predict_feature, filename = 'dt_gini' )"
   ]
  },
  {
   "cell_type": "code",
   "execution_count": 28,
   "metadata": {},
   "outputs": [
    {
     "name": "stdout",
     "output_type": "stream",
     "text": [
      "Validation AUC: 0.811, Accuracy: 0.951\n"
     ]
    },
    {
     "data": {
      "text/plain": [
       "(0.8110274965169635, 0.9511894721340883)"
      ]
     },
     "execution_count": 28,
     "metadata": {},
     "output_type": "execute_result"
    }
   ],
   "source": [
    "# 決策樹 - entropy\n",
    "dt_entropy = DecisionTreeClassifier(criterion = 'entropy')\n",
    "dt_entropy.fit(train_x, train_y)\n",
    "valid_predict_dt_entropy = dt_entropy.predict_proba(valid_x)\n",
    "show_predict_result(valid_y, valid_predict_dt_entropy)"
   ]
  },
  {
   "cell_type": "code",
   "execution_count": 29,
   "metadata": {},
   "outputs": [
    {
     "data": {
      "text/plain": [
       "'dt_entropy-20190619T230958.csv'"
      ]
     },
     "execution_count": 29,
     "metadata": {},
     "output_type": "execute_result"
    }
   ],
   "source": [
    "save_predict_data(dt_entropy,  df_test, predict_feature, filename = 'dt_entropy' )"
   ]
  },
  {
   "cell_type": "code",
   "execution_count": 30,
   "metadata": {},
   "outputs": [
    {
     "name": "stdout",
     "output_type": "stream",
     "text": [
      "Validation AUC: 0.816, Accuracy: 0.951\n"
     ]
    },
    {
     "data": {
      "text/plain": [
       "(0.8156623462723775, 0.9512430218081047)"
      ]
     },
     "execution_count": 30,
     "metadata": {},
     "output_type": "execute_result"
    }
   ],
   "source": [
    "### 隨機森林\n",
    "random_forest = RandomForestClassifier(n_estimators=200)\n",
    "random_forest.fit(train_x, train_y)\n",
    "valid_predict_random_forest = random_forest.predict_proba(valid_x)\n",
    "show_predict_result(valid_y, valid_predict_random_forest)"
   ]
  },
  {
   "cell_type": "code",
   "execution_count": 31,
   "metadata": {},
   "outputs": [
    {
     "data": {
      "text/html": [
       "<div>\n",
       "<style scoped>\n",
       "    .dataframe tbody tr th:only-of-type {\n",
       "        vertical-align: middle;\n",
       "    }\n",
       "\n",
       "    .dataframe tbody tr th {\n",
       "        vertical-align: top;\n",
       "    }\n",
       "\n",
       "    .dataframe thead th {\n",
       "        text-align: right;\n",
       "    }\n",
       "</style>\n",
       "<table border=\"1\" class=\"dataframe\">\n",
       "  <thead>\n",
       "    <tr style=\"text-align: right;\">\n",
       "      <th></th>\n",
       "      <th>0</th>\n",
       "    </tr>\n",
       "  </thead>\n",
       "  <tbody>\n",
       "    <tr>\n",
       "      <th>Distance</th>\n",
       "      <td>0.171948</td>\n",
       "    </tr>\n",
       "    <tr>\n",
       "      <th>distance_0</th>\n",
       "      <td>0.111560</td>\n",
       "    </tr>\n",
       "    <tr>\n",
       "      <th>distance_1</th>\n",
       "      <td>0.008107</td>\n",
       "    </tr>\n",
       "    <tr>\n",
       "      <th>distance_2</th>\n",
       "      <td>0.010943</td>\n",
       "    </tr>\n",
       "    <tr>\n",
       "      <th>distance_3</th>\n",
       "      <td>0.055245</td>\n",
       "    </tr>\n",
       "    <tr>\n",
       "      <th>distance_4</th>\n",
       "      <td>0.008031</td>\n",
       "    </tr>\n",
       "    <tr>\n",
       "      <th>weekday</th>\n",
       "      <td>0.034529</td>\n",
       "    </tr>\n",
       "    <tr>\n",
       "      <th>weekday_type</th>\n",
       "      <td>0.007783</td>\n",
       "    </tr>\n",
       "    <tr>\n",
       "      <th>weekday_1</th>\n",
       "      <td>0.007112</td>\n",
       "    </tr>\n",
       "    <tr>\n",
       "      <th>weekday_2</th>\n",
       "      <td>0.010090</td>\n",
       "    </tr>\n",
       "    <tr>\n",
       "      <th>weekday_3</th>\n",
       "      <td>0.008342</td>\n",
       "    </tr>\n",
       "    <tr>\n",
       "      <th>weekday_4</th>\n",
       "      <td>0.008176</td>\n",
       "    </tr>\n",
       "    <tr>\n",
       "      <th>weekday_5</th>\n",
       "      <td>0.012529</td>\n",
       "    </tr>\n",
       "    <tr>\n",
       "      <th>weekday_6</th>\n",
       "      <td>0.006028</td>\n",
       "    </tr>\n",
       "    <tr>\n",
       "      <th>weekday_7</th>\n",
       "      <td>0.007453</td>\n",
       "    </tr>\n",
       "    <tr>\n",
       "      <th>month_term</th>\n",
       "      <td>0.020899</td>\n",
       "    </tr>\n",
       "    <tr>\n",
       "      <th>early_term</th>\n",
       "      <td>0.011591</td>\n",
       "    </tr>\n",
       "    <tr>\n",
       "      <th>mid_term</th>\n",
       "      <td>0.010288</td>\n",
       "    </tr>\n",
       "    <tr>\n",
       "      <th>late_term</th>\n",
       "      <td>0.014925</td>\n",
       "    </tr>\n",
       "    <tr>\n",
       "      <th>discount_rate</th>\n",
       "      <td>0.080255</td>\n",
       "    </tr>\n",
       "    <tr>\n",
       "      <th>discount_man</th>\n",
       "      <td>0.130177</td>\n",
       "    </tr>\n",
       "    <tr>\n",
       "      <th>discount_jian</th>\n",
       "      <td>0.096986</td>\n",
       "    </tr>\n",
       "    <tr>\n",
       "      <th>discount_type</th>\n",
       "      <td>0.008493</td>\n",
       "    </tr>\n",
       "    <tr>\n",
       "      <th>discount_spread</th>\n",
       "      <td>0.158508</td>\n",
       "    </tr>\n",
       "  </tbody>\n",
       "</table>\n",
       "</div>"
      ],
      "text/plain": [
       "                        0\n",
       "Distance         0.171948\n",
       "distance_0       0.111560\n",
       "distance_1       0.008107\n",
       "distance_2       0.010943\n",
       "distance_3       0.055245\n",
       "distance_4       0.008031\n",
       "weekday          0.034529\n",
       "weekday_type     0.007783\n",
       "weekday_1        0.007112\n",
       "weekday_2        0.010090\n",
       "weekday_3        0.008342\n",
       "weekday_4        0.008176\n",
       "weekday_5        0.012529\n",
       "weekday_6        0.006028\n",
       "weekday_7        0.007453\n",
       "month_term       0.020899\n",
       "early_term       0.011591\n",
       "mid_term         0.010288\n",
       "late_term        0.014925\n",
       "discount_rate    0.080255\n",
       "discount_man     0.130177\n",
       "discount_jian    0.096986\n",
       "discount_type    0.008493\n",
       "discount_spread  0.158508"
      ]
     },
     "execution_count": 31,
     "metadata": {},
     "output_type": "execute_result"
    }
   ],
   "source": [
    "pd.DataFrame(random_forest.feature_importances_, train_x.columns)"
   ]
  },
  {
   "cell_type": "code",
   "execution_count": 32,
   "metadata": {},
   "outputs": [
    {
     "data": {
      "text/plain": [
       "'random_forest-20190619T231155.csv'"
      ]
     },
     "execution_count": 32,
     "metadata": {},
     "output_type": "execute_result"
    }
   ],
   "source": [
    "save_predict_data(random_forest,  df_test, predict_feature, filename = 'random_forest' )"
   ]
  },
  {
   "cell_type": "code",
   "execution_count": 33,
   "metadata": {},
   "outputs": [
    {
     "name": "stdout",
     "output_type": "stream",
     "text": [
      "Validation AUC: 0.826, Accuracy: 0.951\n"
     ]
    },
    {
     "data": {
      "text/plain": [
       "(0.825900099668794, 0.9513635085746416)"
      ]
     },
     "execution_count": 33,
     "metadata": {},
     "output_type": "execute_result"
    }
   ],
   "source": [
    "mlp_adam = MLPClassifier(hidden_layer_sizes=(100,), batch_size = 500, learning_rate = 'invscaling', solver = 'adam')\n",
    "mlp_adam.fit(train_x, train_y)\n",
    "valid_predict_mlp_adam = mlp_adam.predict_proba(valid_x)\n",
    "show_predict_result(valid_y, valid_predict_mlp_adam)"
   ]
  },
  {
   "cell_type": "code",
   "execution_count": 34,
   "metadata": {},
   "outputs": [
    {
     "data": {
      "text/plain": [
       "'mlp_adam-20190619T231254.csv'"
      ]
     },
     "execution_count": 34,
     "metadata": {},
     "output_type": "execute_result"
    }
   ],
   "source": [
    "save_predict_data(mlp_adam,  df_test, predict_feature, filename = 'mlp_adam' )"
   ]
  },
  {
   "cell_type": "code",
   "execution_count": 35,
   "metadata": {},
   "outputs": [
    {
     "name": "stdout",
     "output_type": "stream",
     "text": [
      "Validation AUC: 0.825, Accuracy: 0.951\n"
     ]
    },
    {
     "data": {
      "text/plain": [
       "(0.8253278303294901, 0.9513768959931457)"
      ]
     },
     "execution_count": 35,
     "metadata": {},
     "output_type": "execute_result"
    }
   ],
   "source": [
    "mlp_adam.partial_fit(valid_x, valid_y)\n",
    "valid_predict_mlp_adam2 = mlp_adam.predict_proba(valid_x)\n",
    "show_predict_result(valid_y, valid_predict_mlp_adam2)"
   ]
  },
  {
   "cell_type": "code",
   "execution_count": 36,
   "metadata": {},
   "outputs": [
    {
     "data": {
      "text/plain": [
       "'mlp_adam2-20190619T231258.csv'"
      ]
     },
     "execution_count": 36,
     "metadata": {},
     "output_type": "execute_result"
    }
   ],
   "source": [
    "save_predict_data(mlp_adam,  df_test, predict_feature, filename = 'mlp_adam2' )"
   ]
  },
  {
   "cell_type": "code",
   "execution_count": 37,
   "metadata": {},
   "outputs": [
    {
     "name": "stdout",
     "output_type": "stream",
     "text": [
      "Validation AUC: 0.795, Accuracy: 0.951\n"
     ]
    },
    {
     "data": {
      "text/plain": [
       "(0.7947100599414869, 0.9513902834116498)"
      ]
     },
     "execution_count": 37,
     "metadata": {},
     "output_type": "execute_result"
    }
   ],
   "source": [
    "# mlp sgd\n",
    "mlp_sgd = MLPClassifier(hidden_layer_sizes=(100,), batch_size = 500, learning_rate = 'invscaling', solver = 'sgd')\n",
    "mlp_sgd.fit(train_x, train_y)\n",
    "valid_predict_mlp_sgd = mlp_sgd.predict_proba(valid_x)\n",
    "show_predict_result(valid_y, valid_predict_mlp_sgd)"
   ]
  },
  {
   "cell_type": "code",
   "execution_count": 38,
   "metadata": {},
   "outputs": [
    {
     "data": {
      "text/plain": [
       "'mlp_sgd-20190619T231313.csv'"
      ]
     },
     "execution_count": 38,
     "metadata": {},
     "output_type": "execute_result"
    }
   ],
   "source": [
    "save_predict_data(mlp_sgd,  df_test, predict_feature, filename = 'mlp_sgd' )"
   ]
  },
  {
   "cell_type": "code",
   "execution_count": 39,
   "metadata": {},
   "outputs": [
    {
     "name": "stdout",
     "output_type": "stream",
     "text": [
      "Validation AUC: 0.760, Accuracy: 0.951\n"
     ]
    },
    {
     "data": {
      "text/plain": [
       "(0.7595738013111315, 0.9513902834116498)"
      ]
     },
     "execution_count": 39,
     "metadata": {},
     "output_type": "execute_result"
    }
   ],
   "source": [
    "mlp_sgd.fit(valid_x, valid_y)\n",
    "valid_predict_mlp_sgd2 = mlp_sgd.predict_proba(valid_x)\n",
    "show_predict_result(valid_y, valid_predict_mlp_sgd2)"
   ]
  },
  {
   "cell_type": "code",
   "execution_count": 40,
   "metadata": {},
   "outputs": [
    {
     "data": {
      "text/plain": [
       "'mlp_sgd2-20190619T231319.csv'"
      ]
     },
     "execution_count": 40,
     "metadata": {},
     "output_type": "execute_result"
    }
   ],
   "source": [
    "save_predict_data(mlp_sgd,  df_test, predict_feature, filename = 'mlp_sgd2' )"
   ]
  },
  {
   "cell_type": "code",
   "execution_count": 41,
   "metadata": {},
   "outputs": [
    {
     "name": "stdout",
     "output_type": "stream",
     "text": [
      "Validation AUC: 0.657, Accuracy: 0.947\n"
     ]
    },
    {
     "data": {
      "text/plain": [
       "(0.6565659916422624, 0.9472736522216421)"
      ]
     },
     "execution_count": 41,
     "metadata": {},
     "output_type": "execute_result"
    }
   ],
   "source": [
    "# knn\n",
    "knn = KNeighborsClassifier()\n",
    "knn.fit(train_x, train_y)\n",
    "valid_predict_knn = knn.predict_proba(valid_x)\n",
    "show_predict_result(valid_y, valid_predict_knn)"
   ]
  },
  {
   "cell_type": "code",
   "execution_count": 42,
   "metadata": {},
   "outputs": [
    {
     "data": {
      "text/plain": [
       "'knn-20190619T231837.csv'"
      ]
     },
     "execution_count": 42,
     "metadata": {},
     "output_type": "execute_result"
    }
   ],
   "source": [
    "save_predict_data(knn,  df_test, predict_feature, filename = 'knn' )"
   ]
  },
  {
   "cell_type": "code",
   "execution_count": 43,
   "metadata": {},
   "outputs": [
    {
     "data": {
      "text/plain": [
       "30"
      ]
     },
     "execution_count": 43,
     "metadata": {},
     "output_type": "execute_result"
    }
   ],
   "source": [
    "knn.leaf_size"
   ]
  },
  {
   "cell_type": "code",
   "execution_count": 44,
   "metadata": {},
   "outputs": [],
   "source": [
    "# svm\n",
    "# svm = SVC(kernel='linear', probability=True)\n",
    "# svm.fit(train_x, train_y)\n",
    "# valid_predict_svm = svm.predict_proba(valid_x)\n",
    "# show_predict_result(valid_y, valid_predict_svm)"
   ]
  },
  {
   "cell_type": "code",
   "execution_count": 45,
   "metadata": {},
   "outputs": [],
   "source": [
    "# save_predict_data(svm,  df_test, predict_feature, filename = 'svm' )"
   ]
  },
  {
   "cell_type": "code",
   "execution_count": 46,
   "metadata": {},
   "outputs": [
    {
     "name": "stdout",
     "output_type": "stream",
     "text": [
      "Validation AUC: 0.794, Accuracy: 0.798\n"
     ]
    },
    {
     "data": {
      "text/plain": [
       "(0.7937850419115754, 0.7976960252754461)"
      ]
     },
     "execution_count": 46,
     "metadata": {},
     "output_type": "execute_result"
    }
   ],
   "source": [
    "# GaussianNB\n",
    "gaussian = GaussianNB()\n",
    "gaussian.fit(train_x, train_y)\n",
    "valid_predict_gaussian = gaussian.predict_proba(valid_x)\n",
    "show_predict_result(valid_y, valid_predict_gaussian)"
   ]
  },
  {
   "cell_type": "code",
   "execution_count": 47,
   "metadata": {},
   "outputs": [
    {
     "data": {
      "text/plain": [
       "'gaussian-20190619T231840.csv'"
      ]
     },
     "execution_count": 47,
     "metadata": {},
     "output_type": "execute_result"
    }
   ],
   "source": [
    "save_predict_data(gaussian,  df_test, predict_feature, filename = 'gaussian' )"
   ]
  }
 ],
 "metadata": {
  "kernelspec": {
   "display_name": "Python 3",
   "language": "python",
   "name": "python3"
  },
  "language_info": {
   "codemirror_mode": {
    "name": "ipython",
    "version": 3
   },
   "file_extension": ".py",
   "mimetype": "text/x-python",
   "name": "python",
   "nbconvert_exporter": "python",
   "pygments_lexer": "ipython3",
   "version": "3.6.8"
  }
 },
 "nbformat": 4,
 "nbformat_minor": 2
}
