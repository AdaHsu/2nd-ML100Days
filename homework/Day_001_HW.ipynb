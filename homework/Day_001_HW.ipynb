{
 "cells": [
  {
   "cell_type": "markdown",
   "metadata": {},
   "source": [
    "\n",
    "### 作業1\n",
    "\n",
    "**1. 你選的這組資料為何重要？**\n",
    "\n",
    "* 所選的資料為 [Default of Credit Card Clients Dataset](https://www.kaggle.com/uciml/default-of-credit-card-clients-dataset)。\n",
    "* 這份資料是以 2005 年 04 ~ 09 月間針對信用卡消費行為進行記錄，當時台灣正處於卡債風暴之下，此資料可作為分析消費行為人是否按時繳納信用卡費的風險管理評估之用。\n",
    "  \n",
    "**2. 資料從何而來**\n",
    "\n",
    "* 本資料是由 I-Cheng Yeh 於 2016 年上傳到 UCI Machine Learning Repository 上，之後被轉錄到 Kaggle 中。\n",
    "\n",
    "**3. 蒐集而來的資料型態為何**\n",
    "\n",
    "|欄位|說明|\n",
    "|----|----|\n",
    "|ID|消費者代碼|\n",
    "|LIMIT_BAL|信用額度|\n",
    "|SEX|性別，1=男, 2=女|\n",
    "|EDUCATION|教育程度，1=研究所, 2=大學, 3=高中, 4=其他, 5,6=不知道|\n",
    "|MARRIAGE|婚姻狀況，1=已婚, 2=單身, 3=其他|\n",
    "|AGE|年齡|\n",
    "|PAY_0|2005/09 還款狀況，-2=未使用, -1=如期還款, 1=延遲一個月, 2=延遲二個月, ... 8=延遲八個月, 9=延遲九個月以上|\n",
    "|PAY_2|2005/08 還款狀況，值域同上|\n",
    "|PAY_3|2005/07 還款狀況，值域同上|\n",
    "|PAY_4|2005/06 還款狀況，值域同上|\n",
    "|PAY_5|2005/05 還款狀況，值域同上|\n",
    "|PAY_6|2005/04 還款狀況，值域同上|\n",
    "|BILL_AMT1|2005/09 帳單金額 NT$|\n",
    "|BILL_AMT2|2005/08 帳單金額 NT$|\n",
    "|BILL_AMT3|2005/07 帳單金額 NT$|\n",
    "|BILL_AMT4|2005/06 帳單金額 NT$|\n",
    "|BILL_AMT5|2005/05 帳單金額 NT$|\n",
    "|BILL_AMT6|2005/04 帳單金額 NT$|\n",
    "|PAY_AMT1|2005/09 前期付款金額 NT$|\n",
    "|PAY_AMT2|2005/08 前期付款金額 NT$|\n",
    "|PAY_AMT3|2005/07 前期付款金額 NT$|\n",
    "|PAY_AMT4|2005/06 前期付款金額 NT$|\n",
    "|PAY_AMT5|2005/05 前期付款金額 NT$|\n",
    "|PAY_AMT6|2005/04 前期付款金額 NT$|\n",
    "|default.payment.next.month|是否會拖欠付款，1=是, 0=不是|\n",
    "\n",
    "**4. 這組資料想解決的問題如何評估**\n",
    "\n",
    "1. 將信用額度、年鈴、各期帳單金額、各期付款金額等數值型資料轉換成類別型資料\n",
    "2. 去掉消費者代碼，將 default.payment.next.month 作為應變數 Y，其他視為自變數 Xi\n",
    "3. 將資料集分成訓練用及驗證用兩組，以訓練用資料求取迴歸模型並以驗證用資料驗證模型的效果\n",
    "4. 訓練時可適當篩選自變數數量以剔除影響不大的資料條件\n",
    "5. 透過模型預測新進消費者是否會拖欠付款\n",
    "\n",
    "\n",
    "### 作業2\n",
    "\n",
    "**1. 核心問題為何**\n",
    "\n",
    "1. 業績的認定條件\n",
    "   1. 司機員個人的業績\n",
    "      * 載客次數\n",
    "      * 載客時數\n",
    "      * 載客里程數\n",
    "      * 司機員個人收入\n",
    "   2. 公司總體的業績\n",
    "      * 載客次數\n",
    "      * 載客時數\n",
    "      * 載客里程數\n",
    "      * 乘客平均候車時間\n",
    "      * 全體司機員總收入\n",
    "2. 假設與限制\n",
    "   * 每趟車資包含基本費與哩程費，哩程費為線性費率\n",
    "3. KPI 指標的確認\n",
    "   1. 以提升全體司機員總收入為目標\n",
    "\n",
    "**2. 資料從何而來**\n",
    "\n",
    "1. 從叫車電話\n",
    "   * 叫車時間\n",
    "2. 從計程車計費表收集：\n",
    "   * 上車時間\n",
    "   * 下車時間\n",
    "   * 行車距離\n",
    "   * 車資\n",
    "3. 從計程車 GPS 收集：\n",
    "   * 上車地點\n",
    "   * 下車地點\n",
    "   * 行車距離\n",
    "4. 從氣象狀況\n",
    "   * 天候狀況：晴、陰、雨、大雨、雪、大雪\n",
    "   * 溫濕度\n",
    "5. 透過計算\n",
    "   * 候車時間 = 上車時間 - 叫車時間\n",
    "   * 乘車時間 = 下車時間 - 上車時間\n",
    "   * 叫車成功率 = 派車次數 / 叫車次數 * 100%\n",
    "   * 司機員每日收入 = 每日各趟車資加總\n",
    "\n",
    "**3. 蒐集而來的資料型態為何**\n",
    "\n",
    "1. 上、下車時間為時間的數值型資料，可轉換為時間段的類別型資料\n",
    "2. 行車距離為數值型資料，可以依哩程數轉換為短、中、長途之類的類別型資料\n",
    "3. 上、下車地點為 GPS 座標資料，可以轉換為地區型類別資料\n",
    "4. 車資為數值型資料\n",
    "5. 天候狀況：類別型資料\n",
    "6. 溫濕度：數值資料，可以轉換為人體舒適程度的類別型資料\n",
    "7. 候車時間為數值型資料，可轉換時間段的類別型資料\n",
    "8. 乘車時間為數值型資料，可轉換時間段的類別型資料\n",
    "9. 叫車成功率為數值型資料\n",
    "10. 司機員收入為數值型資料\n",
    "\n",
    "**4. 如何評估業績提昇成效**\n",
    "\n",
    "1. 司機員收入來自於乘客搭車時的服務所得，提升乘客搭乘次數即可提高司機員收入。\n",
    "2. 在對的時間將司機員協調到對的地區即可提升乘客搭乘次數。\n",
    "3. 執行方式 - 將司機員的載車經驗以精確的數字表示，作為車輛集中調度的依據：\n",
    "   * 如果特定天候狀況、某時段、某區的叫車成功率不高表示可派遣車輛不足，可把車輛預先調度到該區。\n",
    "   * 如果特定天候狀況、某時段、某區的上車次數多表示該地區有顯著搭車需求，可優先把車調度到該區。\n",
    "   * 如果特定天候狀況、某時段通過某區的路線偏多但乘車時間超過平均值一定程度時，可授予司機員與乘客協調在一定車資折扣下更換路線（繞遠路但縮短搭車時間）的權力，其折扣部分由公司部份分攤。\n",
    "   * 如果特定天候狀況、某時段通過某區的路線偏多且乘車時間嚴重超越過平均值某個上限時，可請司機員遠離該區。\n",
    "   * 如果特定天候狀況、某時段、某區的候車時間偏長表示該地區可派遣車輛不足，可把車輛預先調度到該區。\n",
    "4. 業績成效評估 - 計算集中調度制度實施前後的全體司機員收入變化情形\n",
    "   * 計算全體司機員每日總收入前後差異達 5%（或其他數值） 以上時，視為成效良好。\n",
    "   * 可額外計算收入未達指定目標者其工時變化情形，若工時下降但收入不變亦可視為業績提升\n"
   ]
  },
  {
   "cell_type": "markdown",
   "metadata": {},
   "source": [
    "## 練習時間\n",
    "#### 請寫一個函式用來計算 Mean Square Error\n",
    "$ MSE = \\frac{1}{n}\\sum_{i=1}^{n}{(Y_i - \\hat{Y}_i)^2} $\n",
    "\n",
    "### Hint: [如何取平方](https://googoodesign.gitbooks.io/-ezpython/unit-1.html)"
   ]
  },
  {
   "cell_type": "code",
   "execution_count": 1,
   "metadata": {},
   "outputs": [],
   "source": [
    "import numpy as np\n",
    "import matplotlib.pyplot as plt"
   ]
  },
  {
   "cell_type": "code",
   "execution_count": 2,
   "metadata": {},
   "outputs": [],
   "source": [
    "def mean_squared_error(real, prediction):\n",
    "    \"\"\"\n",
    "    計算 MSE\n",
    "    \n",
    "    :param real: 實際值\n",
    "    :param prediction: 預測值\n",
    "    \n",
    "    :return MSE\n",
    "    \"\"\"\n",
    "    \n",
    "    return sum(pow((real - prediction), 2)) / len(prediction)\n"
   ]
  },
  {
   "cell_type": "code",
   "execution_count": 3,
   "metadata": {},
   "outputs": [],
   "source": [
    "def mean_absolute_error(real, prediction):\n",
    "    \"\"\"\n",
    "    計算 MAE\n",
    "    \n",
    "    :param real: 實際值\n",
    "    :param prediction: 預測值\n",
    "    \n",
    "    :return MAE\n",
    "    \"\"\"\n",
    "    \n",
    "    return sum(abs(real - prediction)) / len(prediction)"
   ]
  },
  {
   "cell_type": "code",
   "execution_count": 4,
   "metadata": {},
   "outputs": [
    {
     "data": {
      "image/png": "[encoded data removed]",
      "text/plain": [
       "<Figure size 432x288 with 1 Axes>"
      ]
     },
     "metadata": {
      "needs_background": "light"
     },
     "output_type": "display_data"
    }
   ],
   "source": [
    "w = 3\n",
    "b = 0.5\n",
    "\n",
    "x_lin = np.linspace(0, 100, 101)\n",
    "\n",
    "y = (x_lin + np.random.randn(101) * 5) * w + b\n",
    "\n",
    "plt.plot(x_lin, y, 'b.', label = 'data points')\n",
    "plt.title(\"Assume we have data points\")\n",
    "plt.legend(loc = 2)\n",
    "plt.show()"
   ]
  },
  {
   "cell_type": "code",
   "execution_count": 5,
   "metadata": {},
   "outputs": [
    {
     "data": {
      "image/png": "[encoded data removed]",
      "text/plain": [
       "<Figure size 432x288 with 1 Axes>"
      ]
     },
     "metadata": {
      "needs_background": "light"
     },
     "output_type": "display_data"
    }
   ],
   "source": [
    "y_hat = x_lin * w + b\n",
    "plt.plot(x_lin, y, 'b.', label = 'data')\n",
    "plt.plot(x_lin, y_hat, 'r-', label = 'prediction')\n",
    "plt.title(\"Assume we have data points (And the prediction)\")\n",
    "plt.legend(loc = 2)\n",
    "plt.show()"
   ]
  },
  {
   "cell_type": "code",
   "execution_count": 6,
   "metadata": {},
   "outputs": [
    {
     "name": "stdout",
     "output_type": "stream",
     "text": [
      "The Mean squared error is 285.808\n",
      "The Mean absolute error is 13.360\n"
     ]
    }
   ],
   "source": [
    "# 執行 Function, 確認有沒有正常執行\n",
    "MSE = mean_squared_error(y, y_hat)\n",
    "MAE = mean_absolute_error(y, y_hat)\n",
    "print(\"The Mean squared error is %.3f\" % (MSE))\n",
    "print(\"The Mean absolute error is %.3f\" % (MAE))"
   ]
  },
  {
   "cell_type": "code",
   "execution_count": null,
   "metadata": {},
   "outputs": [],
   "source": []
  }
 ],
 "metadata": {
  "anaconda-cloud": {},
  "kernelspec": {
   "display_name": "Python 3",
   "language": "python",
   "name": "python3"
  },
  "language_info": {
   "codemirror_mode": {
    "name": "ipython",
    "version": 3
   },
   "file_extension": ".py",
   "mimetype": "text/x-python",
   "name": "python",
   "nbconvert_exporter": "python",
   "pygments_lexer": "ipython3",
   "version": "3.7.1"
  }
 },
 "nbformat": 4,
 "nbformat_minor": 1
}
