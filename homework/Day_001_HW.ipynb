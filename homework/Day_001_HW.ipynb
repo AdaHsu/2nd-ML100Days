{
 "cells": [
  {
   "cell_type": "markdown",
   "metadata": {},
   "source": [
    "\n",
    "### 作業1\n",
    "\n",
    "**1. 你選的這組資料為何重要？**\n",
    "\n",
    "* 所選的資料為 [Default of Credit Card Clients Dataset](https://www.kaggle.com/uciml/default-of-credit-card-clients-dataset)。\n",
    "* 這份資料是以 2005 年 04 ~ 09 月間針對信用卡消費行為進行記錄，可作為分析消費行為人是否按時繳納信用卡費的風險管理資料來源。\n",
    "  \n",
    "**2. 資料從何而來**\n",
    "\n",
    "* 本資料是由 I-Cheng Yeh 於 2016 年上傳到 UCI Machine Learning Repository 上，之後被轉錄到 Kaggle 中。\n",
    "\n",
    "**3. 蒐集而來的資料型態為何**\n",
    "\n",
    "|欄位|說明|\n",
    "|----|----|\n",
    "|ID|消費者代碼|\n",
    "|LIMIT_BAL|信用額度|\n",
    "|SEX|性別，1=男, 2=女|\n",
    "|EDUCATION|教育程度，1=研究所, 2=大學, 3=高中, 4=其他, 5,6=不知道|\n",
    "|MARRIAGE|婚姻狀況，1=已婚, 2=單身, 3=其他|\n",
    "|AGE|年齡|\n",
    "|PAY_0|2005/09 還款狀況，-2=未使用, -1=如期還款, 1=延遲一個月, 2=延遲二個月, ... 8=延遲八個月, 9=延遲九個月以上)|\n",
    "|PAY_2|2005/08 還款狀況，值域同上|\n",
    "|PAY_3|2005/07 還款狀況，值域同上|\n",
    "|PAY_4|2005/06 還款狀況，值域同上|\n",
    "|PAY_5|2005/05 還款狀況，值域同上|\n",
    "|PAY_6|2005/04 還款狀況，值域同上|\n",
    "|BILL_AMT1|2005/09 帳單金額(NT$)|\n",
    "|BILL_AMT2|2005/08 帳單金額(NT$)|\n",
    "|BILL_AMT3|2005/07 帳單金額(NT$)|\n",
    "|BILL_AMT4|2005/06 帳單金額(NT$)|\n",
    "|BILL_AMT5|2005/05 帳單金額(NT$)|\n",
    "|BILL_AMT6|2005/04 帳單金額(NT$)|\n",
    "|PAY_AMT1|2005/09 前期付款金額(NT$)|\n",
    "|PAY_AMT2|2005/08 前期付款金額(NT$)|\n",
    "|PAY_AMT3|2005/07 前期付款金額(NT$)|\n",
    "|PAY_AMT4|2005/06 前期付款金額(NT$)|\n",
    "|PAY_AMT5|2005/05 前期付款金額(NT$)|\n",
    "|PAY_AMT6|2005/04 前期付款金額(NT$)|\n",
    "|default.payment.next.month|是否會拖欠付款，1=是, 0=不是|\n",
    "\n",
    "**4. 這組資料想解決的問題如何評估**\n",
    "\n",
    "1. 將信用額度、年鈴、各期帳單金額、各期付款金額等數值型資料轉換成類別型資料\n",
    "2. 去掉消費者代碼，將 default.payment.next.month 作為應變數 Y，其他視為自變數 Xi\n",
    "3. 將資料集分成訓練用及驗證用兩組，以訓練用資料求取迴歸模型並以驗證用資料驗證模型的效果\n",
    "4. 訓練時可適當篩選自變數數量以剔除影響不大的資料條件\n",
    "5. 透過模型預測新進消費者是否會拖欠付款\n",
    "\n"
   ]
  }
 ],
 "metadata": {
  "kernelspec": {
   "display_name": "Python 3",
   "language": "python",
   "name": "python3"
  },
  "language_info": {
   "codemirror_mode": {
    "name": "ipython",
    "version": 3
   },
   "file_extension": ".py",
   "mimetype": "text/x-python",
   "name": "python",
   "nbconvert_exporter": "python",
   "pygments_lexer": "ipython3",
   "version": "3.7.1"
  }
 },
 "nbformat": 4,
 "nbformat_minor": 2
}
